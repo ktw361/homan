{
 "cells": [
  {
   "cell_type": "code",
   "execution_count": 1,
   "id": "8e52d7b7-a56d-4bb4-8307-24f9ba09d27f",
   "metadata": {},
   "outputs": [],
   "source": [
    "%load_ext autoreload\n",
    "%autoreload 2"
   ]
  },
  {
   "cell_type": "code",
   "execution_count": 2,
   "id": "acd2c899-0a31-4c4c-b77a-8b0234d2bb7e",
   "metadata": {},
   "outputs": [
    {
     "name": "stderr",
     "output_type": "stream",
     "text": [
      "/home/skynet/miniconda3/envs/phosa16_env/lib/python3.7/site-packages/libyana/meshutils/meshio.py:9: UserWarning: Could not laod tinyobjloader for faster_load_obj, use fast_load_obj\n",
      "  \"Could not laod tinyobjloader for faster_load_obj, use fast_load_obj\"\n",
      "/home/skynet/miniconda3/envs/phosa16_env/lib/python3.7/site-packages/manopth/manolayer.py:72: UserWarning: The given NumPy array is not writeable, and PyTorch does not support non-writeable tensors. This means you can write to the underlying (supposedly non-writeable) NumPy array using the tensor. You may want to copy the array to protect its data or make it writeable before converting it to a tensor. This type of warning will be suppressed for the rest of this program. (Triggered internally at  /opt/conda/conda-bld/pytorch_1595629403081/work/torch/csrc/utils/tensor_numpy.cpp:141.)\n",
      "  torch.Tensor(smpl_data['betas'].r).unsqueeze(0))\n"
     ]
    }
   ],
   "source": [
    "from fit_vid_dataset import get_args, Fitter\n",
    "from homan import getdataset\n",
    "from homan.prepare.frameinfos import (\n",
    "    get_frame_infos, get_gt_infos,\n",
    "    get_frame_info)\n",
    "from homan.utils.bbox import bbox_xy_to_wh\n",
    "\n",
    "import matplotlib.pyplot as plt\n",
    "from PIL import Image\n",
    "import sys"
   ]
  },
  {
   "cell_type": "code",
   "execution_count": 3,
   "id": "f0af60b2-a061-4e90-bf53-36a4045a001e",
   "metadata": {
    "tags": []
   },
   "outputs": [
    {
     "name": "stderr",
     "output_type": "stream",
     "text": [
      "2022-03-09 12:17:01,923 INFO     Calling with args: Namespace(box_mode='gt', chunk_step=4, data_offset=0, data_step=100, dataset='epic', dataset_mode='chunk', debug=False, epic_hdf5_root=None, epic_root='/home/skynet/Zhifan/datasets/epic', epic_valid_path='/home/skynet/Zhifan/data/allVideos.xlsx', frame_nb=10, gt_masks=0, hand_checkpoint='extra_data/hand_module/pretrained_weights/pose_shape_best.pth', hand_proj_mode='persp', lw_collision=0, lw_contact=0, lw_depth=0, lw_inter=1, lw_pca=0.004, lw_scale_hand=0.001, lw_scale_obj=0.001, lw_sil_hand=0, lw_sil_obj=1, lw_smooth=2000, lw_smooth_hand=2000, lw_smooth_obj=2000, lw_v2d_hand=50, mesh_path=None, num_initializations=400, num_joint_iterations=201, num_obj_iterations=50, only_missing=None, optimize_mano=1, optimize_mano_beta=1, optimize_object_scale=0, output_dir='output', result_root='results/epic/step1', resume=None, resume_indep=False, save_indep=False, seed=0, seq_idx=None, smpl_path='extra_data/smpl', split='test', viz_step=20)\n"
     ]
    },
    {
     "name": "stdout",
     "output_type": "stream",
     "text": [
      "======= Options ========\n",
      "box_mode: gt\n",
      "chunk_step: 4\n",
      "data_offset: 0\n",
      "data_step: 100\n",
      "dataset: epic\n",
      "dataset_mode: chunk\n",
      "debug: False\n",
      "epic_hdf5_root: None\n",
      "epic_root: /home/skynet/Zhifan/datasets/epic\n",
      "epic_valid_path: /home/skynet/Zhifan/data/allVideos.xlsx\n",
      "frame_nb: 10\n",
      "gt_masks: 0\n",
      "hand_checkpoint: extra_data/hand_module/pretrained_weights/pose_shape_best.pth\n",
      "hand_proj_mode: persp\n",
      "lw_collision: 0\n",
      "lw_contact: 0\n",
      "lw_depth: 0\n",
      "lw_inter: 1\n",
      "lw_pca: 0.004\n",
      "lw_scale_hand: 0.001\n",
      "lw_scale_obj: 0.001\n",
      "lw_sil_hand: 0\n",
      "lw_sil_obj: 1\n",
      "lw_smooth: 2000\n",
      "lw_smooth_hand: 2000\n",
      "lw_smooth_obj: 2000\n",
      "lw_v2d_hand: 50\n",
      "mesh_path: None\n",
      "num_initializations: 400\n",
      "num_joint_iterations: 201\n",
      "num_obj_iterations: 50\n",
      "only_missing: None\n",
      "optimize_mano: 1\n",
      "optimize_mano_beta: 1\n",
      "optimize_object_scale: 0\n",
      "output_dir: output\n",
      "result_root: results/epic/step1\n",
      "resume: None\n",
      "resume_indep: False\n",
      "save_indep: False\n",
      "seed: 0\n",
      "seq_idx: None\n",
      "smpl_path: extra_data/smpl\n",
      "split: test\n",
      "viz_step: 20\n",
      "========================\n"
     ]
    }
   ],
   "source": [
    "cmd = 'fit_vid_dataset.py --dataset epic --split test --optimize_object_scale 0 --result_root results/epic/step1 --num_initializations 400'\n",
    "sys.argv = cmd.split(' ')\n",
    "\n",
    "args = get_args()"
   ]
  },
  {
   "cell_type": "code",
   "execution_count": 4,
   "id": "cda7f4ac-9930-4ad9-9e0b-3f70bd567ace",
   "metadata": {},
   "outputs": [
    {
     "name": "stderr",
     "output_type": "stream",
     "text": [
      "2022-03-09 12:17:03,971 WARNING  unable to load materials from: model_normalized.mtl\n",
      "2022-03-09 12:17:03,981 WARNING  specified material (material_0_24)  not loaded!\n",
      "2022-03-09 12:17:03,984 WARNING  unable to load materials from: model_normalized.mtl\n",
      "2022-03-09 12:17:03,990 WARNING  specified material (material_0_24)  not loaded!\n",
      "2022-03-09 12:17:03,993 WARNING  unable to load materials from: model_normalized.mtl\n",
      "2022-03-09 12:17:04,000 WARNING  specified material (material_3_24)  not loaded!\n",
      "2022-03-09 12:17:04,002 WARNING  specified material (material_2_24)  not loaded!\n",
      "2022-03-09 12:17:04,003 WARNING  specified material (material_1_24)  not loaded!\n",
      "2022-03-09 12:17:04,007 WARNING  specified material (material_0_24)  not loaded!\n",
      "2022-03-09 12:17:04,014 WARNING  unable to load materials from: model_normalized.mtl\n",
      "2022-03-09 12:17:04,022 WARNING  specified material (material_4_24)  not loaded!\n",
      "2022-03-09 12:17:04,027 WARNING  specified material (material_2_24)  not loaded!\n",
      "2022-03-09 12:17:04,046 WARNING  specified material (material_1_24)  not loaded!\n",
      "2022-03-09 12:17:04,057 WARNING  unable to load materials from: model_normalized.mtl\n",
      "2022-03-09 12:17:04,060 WARNING  specified material (material_2_24)  not loaded!\n"
     ]
    },
    {
     "name": "stdout",
     "output_type": "stream",
     "text": [
      "Chunking 257 videos in chunks of size 1, skipping 1, every 1 frames\n",
      "Working with 26784 chunks for ['can', 'cup', 'plate', 'bottle']\n"
     ]
    }
   ],
   "source": [
    "dataset, image_size = getdataset.get_dataset(\n",
    "    'epic', split='test', frame_nb=1,\n",
    "    box_mode='gt', chunk_step=4, dataset_mode='chunk',    \n",
    "    epic_root=args.epic_root,\n",
    "    epic_valid_path=args.epic_valid_path)"
   ]
  },
  {
   "cell_type": "code",
   "execution_count": 5,
   "id": "017159f7-8f3e-4105-ac9a-c827ac7efecf",
   "metadata": {
    "collapsed": true,
    "jupyter": {
     "outputs_hidden": true,
     "source_hidden": true
    },
    "tags": []
   },
   "outputs": [
    {
     "name": "stderr",
     "output_type": "stream",
     "text": [
      "2022-03-09 12:17:06,091 WARNING  unable to load materials from: model_normalized.mtl\n",
      "2022-03-09 12:17:06,101 WARNING  specified material (material_0_24)  not loaded!\n",
      "2022-03-09 12:17:06,105 WARNING  unable to load materials from: model_normalized.mtl\n",
      "2022-03-09 12:17:06,110 WARNING  specified material (material_0_24)  not loaded!\n",
      "2022-03-09 12:17:06,113 WARNING  unable to load materials from: model_normalized.mtl\n",
      "2022-03-09 12:17:06,121 WARNING  specified material (material_3_24)  not loaded!\n",
      "2022-03-09 12:17:06,122 WARNING  specified material (material_2_24)  not loaded!\n",
      "2022-03-09 12:17:06,124 WARNING  specified material (material_1_24)  not loaded!\n",
      "2022-03-09 12:17:06,127 WARNING  specified material (material_0_24)  not loaded!\n",
      "2022-03-09 12:17:06,134 WARNING  unable to load materials from: model_normalized.mtl\n",
      "2022-03-09 12:17:06,142 WARNING  specified material (material_4_24)  not loaded!\n",
      "2022-03-09 12:17:06,147 WARNING  specified material (material_2_24)  not loaded!\n",
      "2022-03-09 12:17:06,165 WARNING  specified material (material_1_24)  not loaded!\n",
      "2022-03-09 12:17:06,177 WARNING  unable to load materials from: model_normalized.mtl\n",
      "2022-03-09 12:17:06,180 WARNING  specified material (material_2_24)  not loaded!\n"
     ]
    },
    {
     "name": "stdout",
     "output_type": "stream",
     "text": [
      "Chunking 257 videos in chunks of size 1, skipping 1, every 1 frames\n",
      "Working with 26784 chunks for ['can', 'cup', 'plate', 'bottle']\n"
     ]
    }
   ],
   "source": [
    "# check hdf5\n",
    "d2, image_size = getdataset.get_dataset(\n",
    "    'epic', split='test', frame_nb=1,\n",
    "    box_mode='gt', chunk_step=4, dataset_mode='chunk',\n",
    "    # epic_hdf5_root='/home/skynet/Zhifan/data/epic_hdf5_root/',\n",
    "    epic_hdf5_root='./epic_hdf5_root/',\n",
    "    epic_root=args.epic_root,\n",
    "    epic_valid_path=args.epic_valid_path)"
   ]
  },
  {
   "cell_type": "raw",
   "id": "2c4e3c0a-6896-4d3c-b992-07b2b26d3ee8",
   "metadata": {
    "jupyter": {
     "source_hidden": true
    },
    "tags": []
   },
   "source": [
    "import pickle\n",
    "import pandas as pd\n",
    "from pathlib import Path\n",
    "from PIL import Image\n",
    "from homan.datasets.epic_hdf5 import EpicHdf5Reader\n",
    "\n",
    "with open('/home/skynet/Zhifan/data/epic/EPIC_100_train.pkl', 'rb') as fp:\n",
    "    annot_df = pickle.load(fp)\n",
    "# annot_df = \n",
    "\n",
    "valid_vids = pd.read_excel('/home/deepthought/Zhifan/allVideos.xlsx')\n",
    "\n",
    "annot_df = annot_df[annot_df.video_id.isin(valid_vids['Unnamed: 0'])]\n",
    "annot_df = annot_df[annot_df.noun.isin(['can', 'cup', 'plate', 'bottle'])]\n",
    "\n",
    "frame_str = f'frame_{28802:010d}'\n",
    "\n",
    "# read raw\n",
    "vid_root = Path('/home/skynet/Zhifan/data/epic/rgb_root/')/'P01'/'P01_01'\n",
    "imgpath = vid_root/f'frame_{28802:010d}.jpg'\n",
    "Image.open(imgpath)\n",
    "# read hdf5\n",
    "reader = EpicHdf5Reader('./epic_hdf5_root/')\n",
    "reader.read_frame_pil('P01_01', f\"frame_{28802:010d}\")\n",
    "\n",
    "# re"
   ]
  },
  {
   "cell_type": "code",
   "execution_count": 61,
   "id": "89bcb009-a224-43e3-8fa6-87eac037abe7",
   "metadata": {},
   "outputs": [
    {
     "name": "stderr",
     "output_type": "stream",
     "text": [
      "2022-03-08 17:33:03,438 INFO     Loading checkpoint from detectron2://PointRend/InstanceSegmentation/pointrend_rcnn_R_50_FPN_3x_coco/164955410/model_final_edd263.pkl\n",
      "2022-03-08 17:33:03,566 INFO     Reading a file from 'Detectron2 Model Zoo'\n"
     ]
    }
   ],
   "source": [
    "fitter = Fitter(\n",
    "    image_size=image_size,\n",
    "    resume=None,\n",
    "    frame_nb=1,\n",
    "    debug=True,\n",
    "    gt_masks=0,\n",
    "    num_obj_iterations=50,\n",
    "    num_initializations=500,\n",
    "    hand_checkpoint='extra_data/hand_module/pretrained_weights/pose_shape_best.pth',\n",
    "    smpl_path='extra_data/smpl'\n",
    ")"
   ]
  },
  {
   "cell_type": "code",
   "execution_count": 62,
   "id": "17210a5b-5f18-42ad-aedc-5e3c56fb8e7f",
   "metadata": {},
   "outputs": [],
   "source": [
    "annots = dataset[0]\n",
    "fitter._set_paths(sample_folder='tmp/stepbystep', result_root='tmp/')"
   ]
  },
  {
   "cell_type": "markdown",
   "id": "ff519dbf-65a7-4e0b-ba0b-7e36210cc0cf",
   "metadata": {},
   "source": [
    "# Preprocess detections"
   ]
  },
  {
   "cell_type": "code",
   "execution_count": 63,
   "id": "ebdaa7a4-4148-4fd9-9fb8-04072e5a556a",
   "metadata": {},
   "outputs": [
    {
     "name": "stdout",
     "output_type": "stream",
     "text": [
      "Pre-processing detections\n"
     ]
    }
   ],
   "source": [
    "images_np, camintr, obj_bboxes, hand_bboxes, \\\n",
    "    gt_obj_verts, gt_hand_verts = fitter.preprocess_detections(annots)"
   ]
  },
  {
   "cell_type": "markdown",
   "id": "14c157a0-0bbd-48e8-af72-d17da2122998",
   "metadata": {},
   "source": [
    "# Get indep fit"
   ]
  },
  {
   "cell_type": "markdown",
   "id": "5845e663-6534-412e-af42-9dc7ab517352",
   "metadata": {},
   "source": [
    "## get_frame_info (mano_params + obj_mask)"
   ]
  },
  {
   "cell_type": "raw",
   "id": "a128c8b5-a381-4c88-b8a3-b0659da0827a",
   "metadata": {
    "jupyter": {
     "source_hidden": true
    },
    "tags": []
   },
   "source": [
    "resume_folder = None\n",
    "person_parameters, obj_mask_infos, super2d_imgs = get_frame_infos(\n",
    "    images_np,\n",
    "    fitter.hand_predictor,\n",
    "    fitter.mask_extractor,\n",
    "    sample_folder=fitter.sample_folder,\n",
    "    hand_bboxes=hand_bboxes,\n",
    "    obj_bboxes=obj_bboxes,\n",
    "    camintr=camintr,\n",
    "    debug=True,\n",
    "    image_size=image_size,\n",
    "    super2d_step=1,\n",
    ")"
   ]
  },
  {
   "cell_type": "code",
   "execution_count": 71,
   "id": "0071ef80-d8af-484b-aaca-d8a91d131e28",
   "metadata": {},
   "outputs": [
    {
     "data": {
      "text/plain": [
       "{'left_hand': None,\n",
       " 'right_hand': array([[ 26.666718,  26.666656, 586.66675 , 586.66675 ]], dtype=float32)}"
      ]
     },
     "execution_count": 71,
     "metadata": {},
     "output_type": "execute_result"
    }
   ],
   "source": [
    "hand_bboxes"
   ]
  },
  {
   "cell_type": "markdown",
   "id": "2dcdf409-e13c-4041-8c1a-8d6655e1e776",
   "metadata": {},
   "source": [
    "### 0"
   ]
  },
  {
   "cell_type": "code",
   "execution_count": 78,
   "id": "b6d1944d-ad7f-44f5-a5a5-84457a32be58",
   "metadata": {},
   "outputs": [],
   "source": [
    "image_idx = 0\n",
    "image = images_np[0]\n",
    "image_hand_boxes = {\n",
    "    k: boxes[0]\n",
    "    for k, boxes in hand_bboxes.items() if boxes is not None\n",
    "}"
   ]
  },
  {
   "cell_type": "code",
   "execution_count": 76,
   "id": "b93ca83d-6e29-4c61-a74a-84b0e8198422",
   "metadata": {},
   "outputs": [],
   "source": [
    "frame_info = get_frame_info(\n",
    "    image,\n",
    "    fitter.hand_predictor,\n",
    "    fitter.mask_extractor,\n",
    "    sample_folder=fitter.sample_folder,\n",
    "    hand_bboxes=[image_hand_boxes],\n",
    "    obj_bboxes=obj_bboxes[:, 0],\n",
    "    camintr=camintr[image_idx],\n",
    "    debug = True,\n",
    "    image_size=image_size)"
   ]
  },
  {
   "cell_type": "markdown",
   "id": "97aa3d0c-9e4f-4aa5-9ab6-bbdd604b659a",
   "metadata": {},
   "source": [
    "### 1 mocap"
   ]
  },
  {
   "cell_type": "code",
   "execution_count": 81,
   "id": "36894edc-f780-45a6-aaa5-6f298b7f3d3f",
   "metadata": {},
   "outputs": [],
   "source": [
    "mocap_predictions = fitter.hand_predictor.regress(\n",
    "    image[..., ::-1],\n",
    "    [image_hand_boxes],\n",
    "    add_margin=False,\n",
    "    debug=True,\n",
    "    K=camintr[0],\n",
    "    viz_path='tmp/hands.png')"
   ]
  },
  {
   "cell_type": "markdown",
   "id": "64fa4406-4bfb-49b7-a608-febc766cfa63",
   "metadata": {},
   "source": [
    "### 2 obj_mask"
   ]
  },
  {
   "cell_type": "code",
   "execution_count": 85,
   "id": "9d3cf965-671d-437e-b3dc-f14f87574ab1",
   "metadata": {},
   "outputs": [
    {
     "data": {
      "text/plain": [
       "(1, 1, 4)"
      ]
     },
     "execution_count": 85,
     "metadata": {},
     "output_type": "execute_result"
    }
   ],
   "source": [
    "obj_bboxes.shape"
   ]
  },
  {
   "cell_type": "code",
   "execution_count": 86,
   "id": "34268ee7-9184-4e80-b61f-4fc25424d210",
   "metadata": {
    "tags": []
   },
   "outputs": [],
   "source": [
    "obj_mask_infos = fitter.mask_extractor.masks_from_bboxes(\n",
    "    image,\n",
    "    bbox_xy_to_wh(obj_bboxes[:, 0]),\n",
    "    pred_classes=None,\n",
    "    image_size=image_size)[0]"
   ]
  },
  {
   "cell_type": "code",
   "execution_count": 87,
   "id": "5751ab24-63d2-42a1-bba4-e0ed8ec34416",
   "metadata": {},
   "outputs": [
    {
     "data": {
      "text/plain": [
       "{'bbox': tensor([ 61.2555, 181.6652, 327.3538, 286.9446]),\n",
       " 'class_id': tensor(-1, device='cuda:0'),\n",
       " 'full_mask': tensor([[False, False, False,  ..., False, False, False],\n",
       "         [False, False, False,  ..., False, False, False],\n",
       "         [False, False, False,  ..., False, False, False],\n",
       "         ...,\n",
       "         [False, False, False,  ..., False, False, False],\n",
       "         [False, False, False,  ..., False, False, False],\n",
       "         [False, False, False,  ..., False, False, False]]),\n",
       " 'score': tensor(True, device='cuda:0'),\n",
       " 'square_bbox': array([ 12.152481, 112.357544, 425.55994 , 425.55994 ], dtype=float32),\n",
       " 'crop_mask': array([[False, False, False, ..., False, False, False],\n",
       "        [False, False, False, ..., False, False, False],\n",
       "        [False, False, False, ..., False, False, False],\n",
       "        ...,\n",
       "        [False, False, False, ..., False, False, False],\n",
       "        [False, False, False, ..., False, False, False],\n",
       "        [False, False, False, ..., False, False, False]])}"
      ]
     },
     "execution_count": 87,
     "metadata": {},
     "output_type": "execute_result"
    }
   ],
   "source": [
    "obj_mask_infos"
   ]
  },
  {
   "cell_type": "code",
   "execution_count": null,
   "id": "fdfe9f39-e246-44c4-a969-62a9dd26349f",
   "metadata": {},
   "outputs": [],
   "source": []
  },
  {
   "cell_type": "code",
   "execution_count": null,
   "id": "b026faf2-a061-49d5-965e-7df7b3fe5fe4",
   "metadata": {},
   "outputs": [],
   "source": [
    "indep_fit_res, state_dict = fitter.get_indep_fit(\n",
    "    None, images_np, camintr, obj_bboxes, hand_bboxes, annots\n",
    ")"
   ]
  },
  {
   "cell_type": "code",
   "execution_count": 40,
   "id": "56b05cf1-b374-4c81-bb68-7ad88f022d39",
   "metadata": {},
   "outputs": [
    {
     "data": {
      "text/plain": [
       "<matplotlib.image.AxesImage at 0x7fea7be5c2d0>"
      ]
     },
     "execution_count": 40,
     "metadata": {},
     "output_type": "execute_result"
    },
    {
     "data": {
      "image/png": "[encoded data removed]",
      "text/plain": [
       "<Figure size 432x288 with 1 Axes>"
      ]
     },
     "metadata": {
      "needs_background": "light"
     },
     "output_type": "display_data"
    }
   ],
   "source": [
    "plt.imshow(images_np[0])"
   ]
  },
  {
   "cell_type": "code",
   "execution_count": null,
   "id": "0e8e097c-8854-45d4-8a09-b6061af64eb2",
   "metadata": {},
   "outputs": [],
   "source": [
    "k\n"
   ]
  }
 ],
 "metadata": {
  "kernelspec": {
   "display_name": "Python 3 (ipykernel)",
   "language": "python",
   "name": "python3"
  },
  "language_info": {
   "codemirror_mode": {
    "name": "ipython",
    "version": 3
   },
   "file_extension": ".py",
   "mimetype": "text/x-python",
   "name": "python",
   "nbconvert_exporter": "python",
   "pygments_lexer": "ipython3",
   "version": "3.7.11"
  }
 },
 "nbformat": 4,
 "nbformat_minor": 5
}
