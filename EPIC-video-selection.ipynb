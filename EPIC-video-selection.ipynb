{
 "cells": [
  {
   "cell_type": "code",
   "execution_count": 43,
   "id": "367bfe62-31da-4725-8937-ef6ed21dcff1",
   "metadata": {},
   "outputs": [
    {
     "name": "stdout",
     "output_type": "stream",
     "text": [
      "The autoreload extension is already loaded. To reload it, use:\n",
      "  %reload_ext autoreload\n"
     ]
    }
   ],
   "source": [
    "%load_ext autoreload\n",
    "%autoreload 2"
   ]
  },
  {
   "cell_type": "code",
   "execution_count": 2,
   "id": "0f2e461e-1f98-459a-8196-9e034d7ac277",
   "metadata": {},
   "outputs": [],
   "source": [
    "from IPython.display import Video\n",
    "\n",
    "import os\n",
    "\n",
    "from pathlib import Path\n",
    "import matplotlib.pyplot as plt"
   ]
  },
  {
   "cell_type": "raw",
   "id": "b138bfa1-5ae8-4ae6-804d-fabb137533b1",
   "metadata": {},
   "source": [
    "odlib.setup()\n",
    "\n",
    "eho.select_object_video('plate', index=134)"
   ]
  },
  {
   "cell_type": "code",
   "execution_count": 3,
   "id": "6eadd21c-459a-44e2-a260-7b4f2c72515a",
   "metadata": {},
   "outputs": [],
   "source": [
    "from moviepy import editor\n",
    "import tqdm\n",
    "from homan.datasets import epichoa\n",
    "import odlib\n",
    "import pickle\n",
    "from PIL import Image\n",
    "import pandas as pd\n",
    "import numpy as np\n",
    "import odlib\n",
    "odlib.setup()\n",
    "\n",
    "class EpicHO(object):\n",
    "    def __init__(self,\n",
    "                 train_pkl_path='/media/deepthought/DATA/Zhifan/epic-kitchens-100-annotations/EPIC_100_train.pkl',\n",
    "                 rgb_frames_root='/media/eve/DATA2/Datasets/epic-100/rgb_frames/',\n",
    "                 hoa_root='/home/skynet/Zhifan/datasets/epic/hoa/',\n",
    "                 valid_vids_path='/home/deepthought/Zhifan/allVideos.xlsx',\n",
    "                ):\n",
    "        self.rgb_frames_root = rgb_frames_root\n",
    "        self.hoa_root = hoa_root\n",
    "\n",
    "        with open(train_pkl_path, 'rb') as fp:\n",
    "            self.train_meta = pickle.load(fp)\n",
    "            \n",
    "        valid_vids = pd.read_excel(valid_vids_path)\n",
    "        self.train_meta = self.train_meta[self.train_meta.video_id.isin(valid_vids['Unnamed: 0'])]\n",
    "            \n",
    "    def select_object_video(self, obj='plate', index=0):\n",
    "        obj_df = self.train_meta[self.train_meta['noun'].isin([obj])]\n",
    "        if index < 0:\n",
    "            if len(obj_df) <= 0:\n",
    "                raise ValueError(f\"{obj} has no valid videos\")\n",
    "            index = np.random.choice(len(obj_df))\n",
    "        obj_df_i = obj_df.iloc[index]\n",
    "        ret =  (obj_df_i.participant_id,\n",
    "                obj_df_i.video_id,\n",
    "                obj_df_i.start_frame,\n",
    "                obj_df_i.stop_frame)\n",
    "        print(f\"choose {obj} PID={ret[0]} VID={ret[1]}\")\n",
    "        return ret # pid, vid, st, ed\n",
    "           \n",
    "    def generate_object_video(self, obj='plate', index=0, cache=False):\n",
    "        pid, vid, st, ed = self.select_object_video(obj, index)\n",
    "        if cache:\n",
    "            self._vid = vid\n",
    "            self._st = st\n",
    "        return self.make_video(pid, vid, st, ed)\n",
    "    \n",
    "    def make_frame(self,\n",
    "                   frame_df,\n",
    "                   participant_id,\n",
    "                   video_id,\n",
    "                   frame):\n",
    "        img = Image.open( f'{self.rgb_frames_root}/{participant_id}/{video_id}/frame_{frame:010}.jpg' )\n",
    "        img = np.asarray(img)\n",
    "        l = np.asarray(frame_df['left'])\n",
    "        r = np.asarray(frame_df['right'])\n",
    "        t = np.asarray(frame_df['top'])\n",
    "        b = np.asarray(frame_df['bottom'])\n",
    "        boxes = np.vstack([l, t, r, b]).T / [1920, 1080, 1920, 1080] * [456, 256, 456, 256]\n",
    "        return odlib.draw_bboxes_image_array(img, boxes)\n",
    "\n",
    "    def make_video(self,\n",
    "                   participant_id,\n",
    "                   video_id, \n",
    "                   start_frame,\n",
    "                   end_frame,\n",
    "                   max_frames=512):\n",
    "        \"\"\"\n",
    "        Return:\n",
    "            list of numpy array (H, W, 3)\n",
    "        \"\"\"\n",
    "        hoa_df = epichoa.load_video_hoa(video_id, self.hoa_root)\n",
    "        video_df = hoa_df[hoa_df['video_id'] == video_id]\n",
    "        # _frames = video_df['frame']\n",
    "        # st, ed = min(_frames), max(_frames)\n",
    "        end_frame = min(start_frame + max_frames, end_frame)\n",
    "        frames = []\n",
    "        for i in tqdm.trange(start_frame, end_frame):\n",
    "            frame = self.make_frame(video_df[video_df['frame']==i], participant_id, video_id, i)\n",
    "            frames.append(np.asarray(frame))\n",
    "        # frames = np.asarray(frames)\n",
    "        return frames    \n",
    "\n",
    "eho = EpicHO()"
   ]
  },
  {
   "cell_type": "code",
   "execution_count": 64,
   "id": "7200161a-e4db-4169-8146-0eed9015b11a",
   "metadata": {},
   "outputs": [
    {
     "name": "stdout",
     "output_type": "stream",
     "text": [
      "choose plate PID=P03 VID=P03_17\n"
     ]
    },
    {
     "name": "stderr",
     "output_type": "stream",
     "text": [
      "100%|████████████████████████████████████████████████████████████████████████████████████████████████████████████████████████████████████████████| 91/91 [00:00<00:00, 135.25it/s]\n"
     ]
    }
   ],
   "source": [
    "frames = eho.generate_object_video(index=-1, cache=True)"
   ]
  },
  {
   "cell_type": "code",
   "execution_count": 71,
   "id": "581fdd24-d383-40fd-a60e-de09625ab6aa",
   "metadata": {},
   "outputs": [],
   "source": [
    "clip = editor.ImageSequenceClip(frames, fps=25)\n",
    "clip.write_videofile('tmp/output.mp4', logger=None)"
   ]
  },
  {
   "cell_type": "code",
   "execution_count": 41,
   "id": "113f37fe-3f99-468e-bc5f-91be23725847",
   "metadata": {
    "collapsed": true,
    "jupyter": {
     "outputs_hidden": true
    },
    "tags": []
   },
   "outputs": [
    {
     "name": "stdout",
     "output_type": "stream",
     "text": [
      "choose bottle PID=P12 VID=P12_04\n"
     ]
    },
    {
     "name": "stderr",
     "output_type": "stream",
     "text": [
      "100%|█████████████████████████████████████████████████████████████████████████████████████████████████████████████████████████████████████████| 109/109 [00:02<00:00, 43.63it/s]\n"
     ]
    },
    {
     "name": "stdout",
     "output_type": "stream",
     "text": [
      "Moviepy - Building video tmp/inspect/bottle_P12_04_1611.mp4.\n",
      "Moviepy - Writing video tmp/inspect/bottle_P12_04_1611.mp4\n",
      "\n"
     ]
    },
    {
     "name": "stderr",
     "output_type": "stream",
     "text": [
      "                                                                                                                                                                                \r"
     ]
    },
    {
     "name": "stdout",
     "output_type": "stream",
     "text": [
      "Moviepy - Done !\n",
      "Moviepy - video ready tmp/inspect/bottle_P12_04_1611.mp4\n",
      "choose bottle PID=P12 VID=P12_04\n"
     ]
    },
    {
     "name": "stderr",
     "output_type": "stream",
     "text": [
      "100%|████████████████████████████████████████████████████████████████████████████████████████████████████████████████████████████████████████| 274/274 [00:01<00:00, 205.23it/s]\n"
     ]
    },
    {
     "name": "stdout",
     "output_type": "stream",
     "text": [
      "Moviepy - Building video tmp/inspect/bottle_P12_04_1740.mp4.\n",
      "Moviepy - Writing video tmp/inspect/bottle_P12_04_1740.mp4\n",
      "\n"
     ]
    },
    {
     "name": "stderr",
     "output_type": "stream",
     "text": [
      "                                                                                                                                                                                \r"
     ]
    },
    {
     "name": "stdout",
     "output_type": "stream",
     "text": [
      "Moviepy - Done !\n",
      "Moviepy - video ready tmp/inspect/bottle_P12_04_1740.mp4\n",
      "choose bottle PID=P24 VID=P24_05\n"
     ]
    },
    {
     "name": "stderr",
     "output_type": "stream",
     "text": [
      "100%|███████████████████████████████████████████████████████████████████████████████████████████████████████████████████████████████████████████| 80/80 [00:02<00:00, 38.55it/s]\n"
     ]
    },
    {
     "name": "stdout",
     "output_type": "stream",
     "text": [
      "Moviepy - Building video tmp/inspect/bottle_P24_05_45371.mp4.\n",
      "Moviepy - Writing video tmp/inspect/bottle_P24_05_45371.mp4\n",
      "\n"
     ]
    },
    {
     "name": "stderr",
     "output_type": "stream",
     "text": [
      "                                                                                                                                                                                \r"
     ]
    },
    {
     "name": "stdout",
     "output_type": "stream",
     "text": [
      "Moviepy - Done !\n",
      "Moviepy - video ready tmp/inspect/bottle_P24_05_45371.mp4\n",
      "choose bottle PID=P01 VID=P01_05\n"
     ]
    },
    {
     "name": "stderr",
     "output_type": "stream",
     "text": [
      "100%|█████████████████████████████████████████████████████████████████████████████████████████████████████████████████████████████████████████| 146/146 [00:03<00:00, 40.31it/s]\n"
     ]
    },
    {
     "name": "stdout",
     "output_type": "stream",
     "text": [
      "Moviepy - Building video tmp/inspect/bottle_P01_05_33876.mp4.\n",
      "Moviepy - Writing video tmp/inspect/bottle_P01_05_33876.mp4\n",
      "\n"
     ]
    },
    {
     "name": "stderr",
     "output_type": "stream",
     "text": [
      "                                                                                                                                                                                \r"
     ]
    },
    {
     "name": "stdout",
     "output_type": "stream",
     "text": [
      "Moviepy - Done !\n",
      "Moviepy - video ready tmp/inspect/bottle_P01_05_33876.mp4\n",
      "choose bottle PID=P24 VID=P24_08\n"
     ]
    },
    {
     "name": "stderr",
     "output_type": "stream",
     "text": [
      "100%|███████████████████████████████████████████████████████████████████████████████████████████████████████████████████████████████████████████| 74/74 [00:02<00:00, 32.22it/s]\n"
     ]
    },
    {
     "name": "stdout",
     "output_type": "stream",
     "text": [
      "Moviepy - Building video tmp/inspect/bottle_P24_08_51978.mp4.\n",
      "Moviepy - Writing video tmp/inspect/bottle_P24_08_51978.mp4\n",
      "\n"
     ]
    },
    {
     "name": "stderr",
     "output_type": "stream",
     "text": [
      "                                                                                                                                                                                \r"
     ]
    },
    {
     "name": "stdout",
     "output_type": "stream",
     "text": [
      "Moviepy - Done !\n",
      "Moviepy - video ready tmp/inspect/bottle_P24_08_51978.mp4\n",
      "choose jug PID=P06 VID=P06_05\n"
     ]
    },
    {
     "name": "stderr",
     "output_type": "stream",
     "text": [
      "100%|████████████████████████████████████████████████████████████████████████████████████████████████████████████████████████████████████████| 133/133 [00:00<00:00, 134.39it/s]\n"
     ]
    },
    {
     "name": "stdout",
     "output_type": "stream",
     "text": [
      "Moviepy - Building video tmp/inspect/jug_P06_05_72075.mp4.\n",
      "Moviepy - Writing video tmp/inspect/jug_P06_05_72075.mp4\n",
      "\n"
     ]
    },
    {
     "name": "stderr",
     "output_type": "stream",
     "text": [
      "                                                                                                                                                                                \r"
     ]
    },
    {
     "name": "stdout",
     "output_type": "stream",
     "text": [
      "Moviepy - Done !\n",
      "Moviepy - video ready tmp/inspect/jug_P06_05_72075.mp4\n",
      "choose jug PID=P06 VID=P06_05\n"
     ]
    },
    {
     "name": "stderr",
     "output_type": "stream",
     "text": [
      "100%|████████████████████████████████████████████████████████████████████████████████████████████████████████████████████████████████████████| 133/133 [00:00<00:00, 134.59it/s]\n"
     ]
    },
    {
     "name": "stdout",
     "output_type": "stream",
     "text": [
      "Moviepy - Building video tmp/inspect/jug_P06_05_72075.mp4.\n",
      "Moviepy - Writing video tmp/inspect/jug_P06_05_72075.mp4\n",
      "\n"
     ]
    },
    {
     "name": "stderr",
     "output_type": "stream",
     "text": [
      "                                                                                                                                                                                \r"
     ]
    },
    {
     "name": "stdout",
     "output_type": "stream",
     "text": [
      "Moviepy - Done !\n",
      "Moviepy - video ready tmp/inspect/jug_P06_05_72075.mp4\n",
      "choose jug PID=P06 VID=P06_05\n"
     ]
    },
    {
     "name": "stderr",
     "output_type": "stream",
     "text": [
      "100%|████████████████████████████████████████████████████████████████████████████████████████████████████████████████████████████████████████| 133/133 [00:00<00:00, 134.42it/s]\n"
     ]
    },
    {
     "name": "stdout",
     "output_type": "stream",
     "text": [
      "Moviepy - Building video tmp/inspect/jug_P06_05_72075.mp4.\n",
      "Moviepy - Writing video tmp/inspect/jug_P06_05_72075.mp4\n",
      "\n"
     ]
    },
    {
     "name": "stderr",
     "output_type": "stream",
     "text": [
      "                                                                                                                                                                                \r"
     ]
    },
    {
     "name": "stdout",
     "output_type": "stream",
     "text": [
      "Moviepy - Done !\n",
      "Moviepy - video ready tmp/inspect/jug_P06_05_72075.mp4\n",
      "choose jug PID=P06 VID=P06_05\n"
     ]
    },
    {
     "name": "stderr",
     "output_type": "stream",
     "text": [
      "100%|████████████████████████████████████████████████████████████████████████████████████████████████████████████████████████████████████████| 133/133 [00:00<00:00, 134.52it/s]\n"
     ]
    },
    {
     "name": "stdout",
     "output_type": "stream",
     "text": [
      "Moviepy - Building video tmp/inspect/jug_P06_05_72075.mp4.\n",
      "Moviepy - Writing video tmp/inspect/jug_P06_05_72075.mp4\n",
      "\n"
     ]
    },
    {
     "name": "stderr",
     "output_type": "stream",
     "text": [
      "                                                                                                                                                                                \r"
     ]
    },
    {
     "name": "stdout",
     "output_type": "stream",
     "text": [
      "Moviepy - Done !\n",
      "Moviepy - video ready tmp/inspect/jug_P06_05_72075.mp4\n",
      "choose jug PID=P06 VID=P06_05\n"
     ]
    },
    {
     "name": "stderr",
     "output_type": "stream",
     "text": [
      "100%|████████████████████████████████████████████████████████████████████████████████████████████████████████████████████████████████████████| 133/133 [00:00<00:00, 134.55it/s]\n"
     ]
    },
    {
     "name": "stdout",
     "output_type": "stream",
     "text": [
      "Moviepy - Building video tmp/inspect/jug_P06_05_72075.mp4.\n",
      "Moviepy - Writing video tmp/inspect/jug_P06_05_72075.mp4\n",
      "\n"
     ]
    },
    {
     "name": "stderr",
     "output_type": "stream",
     "text": [
      "                                                                                                                                                                                \r"
     ]
    },
    {
     "name": "stdout",
     "output_type": "stream",
     "text": [
      "Moviepy - Done !\n",
      "Moviepy - video ready tmp/inspect/jug_P06_05_72075.mp4\n",
      "pitcher has no valid videos\n",
      "pitcher has no valid videos\n",
      "pitcher has no valid videos\n",
      "pitcher has no valid videos\n",
      "pitcher has no valid videos\n",
      "choose plate PID=P01 VID=P01_09\n"
     ]
    },
    {
     "name": "stderr",
     "output_type": "stream",
     "text": [
      "100%|█████████████████████████████████████████████████████████████████████████████████████████████████████████████████████████████████████████| 314/314 [00:09<00:00, 32.64it/s]\n"
     ]
    },
    {
     "name": "stdout",
     "output_type": "stream",
     "text": [
      "Moviepy - Building video tmp/inspect/plate_P01_09_190375.mp4.\n",
      "Moviepy - Writing video tmp/inspect/plate_P01_09_190375.mp4\n",
      "\n"
     ]
    },
    {
     "name": "stderr",
     "output_type": "stream",
     "text": [
      "                                                                                                                                                                                \r"
     ]
    },
    {
     "name": "stdout",
     "output_type": "stream",
     "text": [
      "Moviepy - Done !\n",
      "Moviepy - video ready tmp/inspect/plate_P01_09_190375.mp4\n",
      "choose plate PID=P26 VID=P26_02\n"
     ]
    },
    {
     "name": "stderr",
     "output_type": "stream",
     "text": [
      "100%|█████████████████████████████████████████████████████████████████████████████████████████████████████████████████████████████████████████| 109/109 [00:02<00:00, 48.99it/s]\n"
     ]
    },
    {
     "name": "stdout",
     "output_type": "stream",
     "text": [
      "Moviepy - Building video tmp/inspect/plate_P26_02_9684.mp4.\n",
      "Moviepy - Writing video tmp/inspect/plate_P26_02_9684.mp4\n",
      "\n"
     ]
    },
    {
     "name": "stderr",
     "output_type": "stream",
     "text": [
      "                                                                                                                                                                                \r"
     ]
    },
    {
     "name": "stdout",
     "output_type": "stream",
     "text": [
      "Moviepy - Done !\n",
      "Moviepy - video ready tmp/inspect/plate_P26_02_9684.mp4\n",
      "choose plate PID=P13 VID=P13_10\n"
     ]
    },
    {
     "name": "stderr",
     "output_type": "stream",
     "text": [
      "100%|███████████████████████████████████████████████████████████████████████████████████████████████████████████████████████████████████████████| 66/66 [00:01<00:00, 59.80it/s]\n"
     ]
    },
    {
     "name": "stdout",
     "output_type": "stream",
     "text": [
      "Moviepy - Building video tmp/inspect/plate_P13_10_407.mp4.\n",
      "Moviepy - Writing video tmp/inspect/plate_P13_10_407.mp4\n",
      "\n"
     ]
    },
    {
     "name": "stderr",
     "output_type": "stream",
     "text": [
      "                                                                                                                                                                                \r"
     ]
    },
    {
     "name": "stdout",
     "output_type": "stream",
     "text": [
      "Moviepy - Done !\n",
      "Moviepy - video ready tmp/inspect/plate_P13_10_407.mp4\n",
      "choose plate PID=P08 VID=P08_21\n"
     ]
    },
    {
     "name": "stderr",
     "output_type": "stream",
     "text": [
      "100%|███████████████████████████████████████████████████████████████████████████████████████████████████████████████████████████████████████████| 85/85 [00:02<00:00, 38.10it/s]\n"
     ]
    },
    {
     "name": "stdout",
     "output_type": "stream",
     "text": [
      "Moviepy - Building video tmp/inspect/plate_P08_21_13233.mp4.\n",
      "Moviepy - Writing video tmp/inspect/plate_P08_21_13233.mp4\n",
      "\n"
     ]
    },
    {
     "name": "stderr",
     "output_type": "stream",
     "text": [
      "                                                                                                                                                                                \r"
     ]
    },
    {
     "name": "stdout",
     "output_type": "stream",
     "text": [
      "Moviepy - Done !\n",
      "Moviepy - video ready tmp/inspect/plate_P08_21_13233.mp4\n",
      "choose plate PID=P03 VID=P03_04\n"
     ]
    },
    {
     "name": "stderr",
     "output_type": "stream",
     "text": [
      "100%|███████████████████████████████████████████████████████████████████████████████████████████████████████████████████████████████████████████| 60/60 [00:01<00:00, 43.48it/s]\n"
     ]
    },
    {
     "name": "stdout",
     "output_type": "stream",
     "text": [
      "Moviepy - Building video tmp/inspect/plate_P03_04_67903.mp4.\n",
      "Moviepy - Writing video tmp/inspect/plate_P03_04_67903.mp4\n",
      "\n"
     ]
    },
    {
     "name": "stderr",
     "output_type": "stream",
     "text": [
      "                                                                                                                                                                                \r"
     ]
    },
    {
     "name": "stdout",
     "output_type": "stream",
     "text": [
      "Moviepy - Done !\n",
      "Moviepy - video ready tmp/inspect/plate_P03_04_67903.mp4\n",
      "choose cup PID=P23 VID=P23_02\n"
     ]
    },
    {
     "name": "stderr",
     "output_type": "stream",
     "text": [
      "100%|███████████████████████████████████████████████████████████████████████████████████████████████████████████████████████████████████████████| 62/62 [00:01<00:00, 34.72it/s]\n"
     ]
    },
    {
     "name": "stdout",
     "output_type": "stream",
     "text": [
      "Moviepy - Building video tmp/inspect/cup_P23_02_92204.mp4.\n",
      "Moviepy - Writing video tmp/inspect/cup_P23_02_92204.mp4\n",
      "\n"
     ]
    },
    {
     "name": "stderr",
     "output_type": "stream",
     "text": [
      "                                                                                                                                                                                \r"
     ]
    },
    {
     "name": "stdout",
     "output_type": "stream",
     "text": [
      "Moviepy - Done !\n",
      "Moviepy - video ready tmp/inspect/cup_P23_02_92204.mp4\n",
      "choose cup PID=P01 VID=P01_03\n"
     ]
    },
    {
     "name": "stderr",
     "output_type": "stream",
     "text": [
      "100%|███████████████████████████████████████████████████████████████████████████████████████████████████████████████████████████████████████████| 51/51 [00:00<00:00, 62.54it/s]\n"
     ]
    },
    {
     "name": "stdout",
     "output_type": "stream",
     "text": [
      "Moviepy - Building video tmp/inspect/cup_P01_03_3045.mp4.\n",
      "Moviepy - Writing video tmp/inspect/cup_P01_03_3045.mp4\n",
      "\n"
     ]
    },
    {
     "name": "stderr",
     "output_type": "stream",
     "text": [
      "                                                                                                                                                                                \r"
     ]
    },
    {
     "name": "stdout",
     "output_type": "stream",
     "text": [
      "Moviepy - Done !\n",
      "Moviepy - video ready tmp/inspect/cup_P01_03_3045.mp4\n",
      "choose cup PID=P04 VID=P04_13\n"
     ]
    },
    {
     "name": "stderr",
     "output_type": "stream",
     "text": [
      "100%|█████████████████████████████████████████████████████████████████████████████████████████████████████████████████████████████████████████| 171/171 [00:04<00:00, 42.37it/s]\n"
     ]
    },
    {
     "name": "stdout",
     "output_type": "stream",
     "text": [
      "Moviepy - Building video tmp/inspect/cup_P04_13_10393.mp4.\n",
      "Moviepy - Writing video tmp/inspect/cup_P04_13_10393.mp4\n",
      "\n"
     ]
    },
    {
     "name": "stderr",
     "output_type": "stream",
     "text": [
      "                                                                                                                                                                                \r"
     ]
    },
    {
     "name": "stdout",
     "output_type": "stream",
     "text": [
      "Moviepy - Done !\n",
      "Moviepy - video ready tmp/inspect/cup_P04_13_10393.mp4\n",
      "choose cup PID=P02 VID=P02_01\n"
     ]
    },
    {
     "name": "stderr",
     "output_type": "stream",
     "text": [
      "100%|███████████████████████████████████████████████████████████████████████████████████████████████████████████████████████████████████████████| 74/74 [00:01<00:00, 54.58it/s]\n"
     ]
    },
    {
     "name": "stdout",
     "output_type": "stream",
     "text": [
      "Moviepy - Building video tmp/inspect/cup_P02_01_7291.mp4.\n",
      "Moviepy - Writing video tmp/inspect/cup_P02_01_7291.mp4\n",
      "\n"
     ]
    },
    {
     "name": "stderr",
     "output_type": "stream",
     "text": [
      "                                                                                                                                                                                \r"
     ]
    },
    {
     "name": "stdout",
     "output_type": "stream",
     "text": [
      "Moviepy - Done !\n",
      "Moviepy - video ready tmp/inspect/cup_P02_01_7291.mp4\n",
      "choose cup PID=P01 VID=P01_09\n"
     ]
    },
    {
     "name": "stderr",
     "output_type": "stream",
     "text": [
      "100%|███████████████████████████████████████████████████████████████████████████████████████████████████████████████████████████████████████████| 81/81 [00:01<00:00, 41.26it/s]\n"
     ]
    },
    {
     "name": "stdout",
     "output_type": "stream",
     "text": [
      "Moviepy - Building video tmp/inspect/cup_P01_09_6796.mp4.\n",
      "Moviepy - Writing video tmp/inspect/cup_P01_09_6796.mp4\n",
      "\n"
     ]
    },
    {
     "name": "stderr",
     "output_type": "stream",
     "text": [
      "                                                                                                                                                                                \r"
     ]
    },
    {
     "name": "stdout",
     "output_type": "stream",
     "text": [
      "Moviepy - Done !\n",
      "Moviepy - video ready tmp/inspect/cup_P01_09_6796.mp4\n",
      "phone has no valid videos\n",
      "phone has no valid videos\n",
      "phone has no valid videos\n",
      "phone has no valid videos\n",
      "phone has no valid videos\n",
      "choose can PID=P03 VID=P03_04\n"
     ]
    },
    {
     "name": "stderr",
     "output_type": "stream",
     "text": [
      "100%|███████████████████████████████████████████████████████████████████████████████████████████████████████████████████████████████████████████| 59/59 [00:01<00:00, 43.54it/s]\n"
     ]
    },
    {
     "name": "stdout",
     "output_type": "stream",
     "text": [
      "Moviepy - Building video tmp/inspect/can_P03_04_916.mp4.\n",
      "Moviepy - Writing video tmp/inspect/can_P03_04_916.mp4\n",
      "\n"
     ]
    },
    {
     "name": "stderr",
     "output_type": "stream",
     "text": [
      "                                                                                                                                                                                \r"
     ]
    },
    {
     "name": "stdout",
     "output_type": "stream",
     "text": [
      "Moviepy - Done !\n",
      "Moviepy - video ready tmp/inspect/can_P03_04_916.mp4\n",
      "choose can PID=P12 VID=P12_02\n"
     ]
    },
    {
     "name": "stderr",
     "output_type": "stream",
     "text": [
      "100%|█████████████████████████████████████████████████████████████████████████████████████████████████████████████████████████████████████████| 225/225 [00:06<00:00, 35.05it/s]\n"
     ]
    },
    {
     "name": "stdout",
     "output_type": "stream",
     "text": [
      "Moviepy - Building video tmp/inspect/can_P12_02_62341.mp4.\n",
      "Moviepy - Writing video tmp/inspect/can_P12_02_62341.mp4\n",
      "\n"
     ]
    },
    {
     "name": "stderr",
     "output_type": "stream",
     "text": [
      "                                                                                                                                                                                \r"
     ]
    },
    {
     "name": "stdout",
     "output_type": "stream",
     "text": [
      "Moviepy - Done !\n",
      "Moviepy - video ready tmp/inspect/can_P12_02_62341.mp4\n",
      "choose can PID=P02 VID=P02_09\n"
     ]
    },
    {
     "name": "stderr",
     "output_type": "stream",
     "text": [
      "100%|███████████████████████████████████████████████████████████████████████████████████████████████████████████████████████████████████████████| 72/72 [00:01<00:00, 36.59it/s]\n"
     ]
    },
    {
     "name": "stdout",
     "output_type": "stream",
     "text": [
      "Moviepy - Building video tmp/inspect/can_P02_09_42615.mp4.\n",
      "Moviepy - Writing video tmp/inspect/can_P02_09_42615.mp4\n",
      "\n"
     ]
    },
    {
     "name": "stderr",
     "output_type": "stream",
     "text": [
      "                                                                                                                                                                                \r"
     ]
    },
    {
     "name": "stdout",
     "output_type": "stream",
     "text": [
      "Moviepy - Done !\n",
      "Moviepy - video ready tmp/inspect/can_P02_09_42615.mp4\n",
      "choose can PID=P12 VID=P12_02\n"
     ]
    },
    {
     "name": "stderr",
     "output_type": "stream",
     "text": [
      "100%|█████████████████████████████████████████████████████████████████████████████████████████████████████████████████████████████████████████| 187/187 [00:04<00:00, 40.50it/s]\n"
     ]
    },
    {
     "name": "stdout",
     "output_type": "stream",
     "text": [
      "Moviepy - Building video tmp/inspect/can_P12_02_14704.mp4.\n",
      "Moviepy - Writing video tmp/inspect/can_P12_02_14704.mp4\n",
      "\n"
     ]
    },
    {
     "name": "stderr",
     "output_type": "stream",
     "text": [
      "                                                                                                                                                                                \r"
     ]
    },
    {
     "name": "stdout",
     "output_type": "stream",
     "text": [
      "Moviepy - Done !\n",
      "Moviepy - video ready tmp/inspect/can_P12_02_14704.mp4\n",
      "choose can PID=P03 VID=P03_04\n"
     ]
    },
    {
     "name": "stderr",
     "output_type": "stream",
     "text": [
      "100%|███████████████████████████████████████████████████████████████████████████████████████████████████████████████████████████████████████████| 72/72 [00:01<00:00, 42.91it/s]\n"
     ]
    },
    {
     "name": "stdout",
     "output_type": "stream",
     "text": [
      "Moviepy - Building video tmp/inspect/can_P03_04_834.mp4.\n",
      "Moviepy - Writing video tmp/inspect/can_P03_04_834.mp4\n",
      "\n"
     ]
    },
    {
     "name": "stderr",
     "output_type": "stream",
     "text": [
      "                                                                                                                                                                                \r"
     ]
    },
    {
     "name": "stdout",
     "output_type": "stream",
     "text": [
      "Moviepy - Done !\n",
      "Moviepy - video ready tmp/inspect/can_P03_04_834.mp4\n"
     ]
    }
   ],
   "source": [
    "obj_list = ['bottle', 'jug', 'pitcher', 'plate', 'cup', 'phone', 'can']\n",
    "for obj in obj_list:\n",
    "    for i in range(5):\n",
    "        try:\n",
    "            frames = eho.generate_object_video(obj=obj, index=-1, cache=True)\n",
    "            clip = editor.ImageSequenceClip(frames, fps=25)\n",
    "            clip.write_videofile(f'tmp/inspect/{obj}_{eho._vid}_{eho._st}.mp4')\n",
    "        except ValueError as e:\n",
    "            print(e)\n"
   ]
  },
  {
   "cell_type": "raw",
   "id": "5953f317-b914-48ef-bb6f-ee43f295d83e",
   "metadata": {},
   "source": [
    "Video('tmp/output.mp4')"
   ]
  },
  {
   "cell_type": "markdown",
   "id": "630d7c6c-db54-4a4a-a7d4-7c1929e960c9",
   "metadata": {},
   "source": [
    "# Analysis set"
   ]
  },
  {
   "cell_type": "code",
   "execution_count": 199,
   "id": "2fab194f-f763-4536-aa89-6c81a6843afb",
   "metadata": {},
   "outputs": [],
   "source": [
    "import epylab as pylab\n",
    "import dask.dataframe as dd\n",
    "import pandas as pd"
   ]
  },
  {
   "cell_type": "markdown",
   "id": "cf540cf5-268b-4d95-896d-d081f3d5e2a7",
   "metadata": {},
   "source": [
    "## Loading -> 67217"
   ]
  },
  {
   "cell_type": "code",
   "execution_count": 227,
   "id": "c045d606-64ba-4b01-ba2d-f7d6c64b9bb9",
   "metadata": {},
   "outputs": [
    {
     "name": "stdout",
     "output_type": "stream",
     "text": [
      "67217\n"
     ]
    }
   ],
   "source": [
    "annot_df = '/home/skynet/Zhifan/data/epic/EPIC_100_train.csv'\n",
    "annot_df = pd.read_csv(annot_df)\n",
    "print(len(annot_df))\n",
    "\n",
    "annot_df = annot_df[annot_df['narration_timestamp'].notnull()]"
   ]
  },
  {
   "cell_type": "markdown",
   "id": "3a1c3b20-7b3e-49cf-a1c9-26e9d056525e",
   "metadata": {},
   "source": [
    "## Filter no seg \n",
    "- by vid: 9562\n",
    "- by requiring (st, ed) be included in gt-pair: 8633"
   ]
  },
  {
   "cell_type": "code",
   "execution_count": 206,
   "id": "1dc463ec-6b33-4150-a653-0c28055fc02b",
   "metadata": {},
   "outputs": [
    {
     "name": "stderr",
     "output_type": "stream",
     "text": [
      "100%|█████████████████████████████████████████████████████████████████████████████████████████████████████████████████████████████████████████████████████████████████████████████████████████████████████████| 57/57 [00:13<00:00,  4.16it/s]\n"
     ]
    }
   ],
   "source": [
    "from pathlib import Path\n",
    "import glob, json, tqdm\n",
    "all_segs = '/home/skynet/Zhifan/data/more_segs'\n",
    "data_root = Path(all_segs)\n",
    "pid_set = set()\n",
    "vid_set = set()\n",
    "vid_map = dict()\n",
    "for fname in tqdm.tqdm(glob.glob(str(data_root/\"*.json\"))):\n",
    "    with open(fname) as fp:\n",
    "        data = json.load(fp)\n",
    "    for ann in data:\n",
    "        for doc in ann['documents']:\n",
    "            vid = doc['directory'].split('/')[0]\n",
    "            pid = vid[:3]\n",
    "            frame_id = int(doc['name'].split('.')[0].split('_')[-1])\n",
    "            pid_set.add(pid)\n",
    "            vid_set.add(vid)\n",
    "            if vid not in vid_map:\n",
    "                vid_map[vid] = [frame_id]\n",
    "            else:\n",
    "                vid_map[vid].append(frame_id)"
   ]
  },
  {
   "cell_type": "code",
   "execution_count": 228,
   "id": "645005e9-5100-4e85-9018-07ed539870db",
   "metadata": {},
   "outputs": [
    {
     "name": "stdout",
     "output_type": "stream",
     "text": [
      "9562\n",
      "8633\n"
     ]
    }
   ],
   "source": [
    "import bisect\n",
    "annot_df = annot_df[annot_df.video_id.isin(list(vid_map.keys()))]\n",
    "print(len(annot_df))\n",
    "for k in vid_map.keys():\n",
    "    vid_map[k] = sorted(vid_map[k])\n",
    "keep = []\n",
    "for i, annot in (annot_df.iterrows()):\n",
    "    vid = annot.video_id\n",
    "    st, ed = annot.start_frame, annot.stop_frame\n",
    "    L = vid_map[vid]\n",
    "    l = bisect.bisect_left(L, st)\n",
    "    if l == 0:\n",
    "        continue\n",
    "    r = bisect.bisect_right(L, ed)\n",
    "    if r == len(L):\n",
    "        continue\n",
    "    keep.append(i)\n",
    "\n",
    "annot_df = annot_df.loc[keep, :]\n",
    "print(len(annot_df))"
   ]
  },
  {
   "cell_type": "code",
   "execution_count": 215,
   "id": "b5e09912-b79f-466e-b29d-fdf85527da3b",
   "metadata": {},
   "outputs": [],
   "source": [
    "annot_df.to_json('/home/skynet/Zhifan/epic_clip_viewer/data/EPIC100_8k.json', orient='records')"
   ]
  },
  {
   "cell_type": "markdown",
   "id": "cc25a364-2d34-4445-a8fb-3a48612d3685",
   "metadata": {},
   "source": [
    "## Filter nouns -> 359"
   ]
  },
  {
   "cell_type": "code",
   "execution_count": null,
   "id": "c7ac42d4-664b-455e-9b8f-5a855fcfe46e",
   "metadata": {},
   "outputs": [],
   "source": [
    "set(annot_df.noun)"
   ]
  },
  {
   "cell_type": "code",
   "execution_count": 245,
   "id": "f55ad5bb-7426-44db-a692-6bb105964c8e",
   "metadata": {},
   "outputs": [
    {
     "name": "stdout",
     "output_type": "stream",
     "text": [
      "578\n"
     ]
    }
   ],
   "source": [
    "print(len(annot_df[annot_df.noun.isin(nouns)]))"
   ]
  },
  {
   "cell_type": "code",
   "execution_count": 244,
   "id": "bca0ee0b-5a92-4e50-920b-49e5db3fb087",
   "metadata": {},
   "outputs": [
    {
     "name": "stdout",
     "output_type": "stream",
     "text": [
      "578\n"
     ]
    }
   ],
   "source": [
    "nouns=[\n",
    "        \"can\",\n",
    "        \"cup\", \"mug\", # mug glass\n",
    "        \"plate\",\n",
    "        \"bottle\", \"bottle:oil\", \"sauce:bottle\", \"bottle:soy sauce\", \"bottle:water\",\n",
    "        \"jug\",\n",
    "    \"bowl\",\n",
    "    # \"pitcher\",\n",
    "]\n",
    "\n",
    "annot_df = annot_df[annot_df.noun.isin(nouns)]\n",
    "print(len(annot_df))"
   ]
  },
  {
   "cell_type": "code",
   "execution_count": 236,
   "id": "484bf9ea-ef06-4208-89ab-ebc247ec8ca8",
   "metadata": {},
   "outputs": [],
   "source": [
    "annot_df.to_json('/home/skynet/Zhifan/epic_clip_viewer/data/filtered_300.json', orient='records')"
   ]
  }
 ],
 "metadata": {
  "kernelspec": {
   "display_name": "Python 3 (ipykernel)",
   "language": "python",
   "name": "python3"
  },
  "language_info": {
   "codemirror_mode": {
    "name": "ipython",
    "version": 3
   },
   "file_extension": ".py",
   "mimetype": "text/x-python",
   "name": "python",
   "nbconvert_exporter": "python",
   "pygments_lexer": "ipython3",
   "version": "3.7.11"
  }
 },
 "nbformat": 4,
 "nbformat_minor": 5
}
