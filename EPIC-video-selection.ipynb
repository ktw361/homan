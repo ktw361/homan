{
 "cells": [
  {
   "cell_type": "code",
   "execution_count": 43,
   "id": "367bfe62-31da-4725-8937-ef6ed21dcff1",
   "metadata": {},
   "outputs": [
    {
     "name": "stdout",
     "output_type": "stream",
     "text": [
      "The autoreload extension is already loaded. To reload it, use:\n",
      "  %reload_ext autoreload\n"
     ]
    }
   ],
   "source": [
    "%load_ext autoreload\n",
    "%autoreload 2"
   ]
  },
  {
   "cell_type": "code",
   "execution_count": 2,
   "id": "0f2e461e-1f98-459a-8196-9e034d7ac277",
   "metadata": {},
   "outputs": [],
   "source": [
    "from IPython.display import Video\n",
    "\n",
    "import os\n",
    "\n",
    "from pathlib import Path\n",
    "import matplotlib.pyplot as plt"
   ]
  },
  {
   "cell_type": "raw",
   "id": "b138bfa1-5ae8-4ae6-804d-fabb137533b1",
   "metadata": {},
   "source": [
    "odlib.setup()\n",
    "\n",
    "eho.select_object_video('plate', index=134)"
   ]
  },
  {
   "cell_type": "code",
   "execution_count": 3,
   "id": "6eadd21c-459a-44e2-a260-7b4f2c72515a",
   "metadata": {},
   "outputs": [],
   "source": [
    "from moviepy import editor\n",
    "import tqdm\n",
    "from homan.datasets import epichoa\n",
    "import odlib\n",
    "import pickle\n",
    "from PIL import Image\n",
    "import pandas as pd\n",
    "import numpy as np\n",
    "import odlib\n",
    "odlib.setup()\n",
    "\n",
    "class EpicHO(object):\n",
    "    def __init__(self,\n",
    "                 train_pkl_path='/media/deepthought/DATA/Zhifan/epic-kitchens-100-annotations/EPIC_100_train.pkl',\n",
    "                 rgb_frames_root='/media/eve/DATA2/Datasets/epic-100/rgb_frames/',\n",
    "                 hoa_root='/home/skynet/Zhifan/datasets/epic/hoa/',\n",
    "                 valid_vids_path='/home/deepthought/Zhifan/allVideos.xlsx',\n",
    "                ):\n",
    "        self.rgb_frames_root = rgb_frames_root\n",
    "        self.hoa_root = hoa_root\n",
    "\n",
    "        with open(train_pkl_path, 'rb') as fp:\n",
    "            self.train_meta = pickle.load(fp)\n",
    "            \n",
    "        valid_vids = pd.read_excel(valid_vids_path)\n",
    "        self.train_meta = self.train_meta[self.train_meta.video_id.isin(valid_vids['Unnamed: 0'])]\n",
    "            \n",
    "    def select_object_video(self, obj='plate', index=0):\n",
    "        obj_df = self.train_meta[self.train_meta['noun'].isin([obj])]\n",
    "        if index < 0:\n",
    "            if len(obj_df) <= 0:\n",
    "                raise ValueError(f\"{obj} has no valid videos\")\n",
    "            index = np.random.choice(len(obj_df))\n",
    "        obj_df_i = obj_df.iloc[index]\n",
    "        ret =  (obj_df_i.participant_id,\n",
    "                obj_df_i.video_id,\n",
    "                obj_df_i.start_frame,\n",
    "                obj_df_i.stop_frame)\n",
    "        print(f\"choose {obj} PID={ret[0]} VID={ret[1]}\")\n",
    "        return ret # pid, vid, st, ed\n",
    "           \n",
    "    def generate_object_video(self, obj='plate', index=0, cache=False):\n",
    "        pid, vid, st, ed = self.select_object_video(obj, index)\n",
    "        if cache:\n",
    "            self._vid = vid\n",
    "            self._st = st\n",
    "        return self.make_video(pid, vid, st, ed)\n",
    "    \n",
    "    def make_frame(self,\n",
    "                   frame_df,\n",
    "                   participant_id,\n",
    "                   video_id,\n",
    "                   frame):\n",
    "        img = Image.open( f'{self.rgb_frames_root}/{participant_id}/{video_id}/frame_{frame:010}.jpg' )\n",
    "        img = np.asarray(img)\n",
    "        l = np.asarray(frame_df['left'])\n",
    "        r = np.asarray(frame_df['right'])\n",
    "        t = np.asarray(frame_df['top'])\n",
    "        b = np.asarray(frame_df['bottom'])\n",
    "        boxes = np.vstack([l, t, r, b]).T / [1920, 1080, 1920, 1080] * [456, 256, 456, 256]\n",
    "        return odlib.draw_bboxes_image_array(img, boxes)\n",
    "\n",
    "    def make_video(self,\n",
    "                   participant_id,\n",
    "                   video_id, \n",
    "                   start_frame,\n",
    "                   end_frame,\n",
    "                   max_frames=512):\n",
    "        \"\"\"\n",
    "        Return:\n",
    "            list of numpy array (H, W, 3)\n",
    "        \"\"\"\n",
    "        hoa_df = epichoa.load_video_hoa(video_id, self.hoa_root)\n",
    "        video_df = hoa_df[hoa_df['video_id'] == video_id]\n",
    "        # _frames = video_df['frame']\n",
    "        # st, ed = min(_frames), max(_frames)\n",
    "        end_frame = min(start_frame + max_frames, end_frame)\n",
    "        frames = []\n",
    "        for i in tqdm.trange(start_frame, end_frame):\n",
    "            frame = self.make_frame(video_df[video_df['frame']==i], participant_id, video_id, i)\n",
    "            frames.append(np.asarray(frame))\n",
    "        # frames = np.asarray(frames)\n",
    "        return frames    \n",
    "\n",
    "eho = EpicHO()"
   ]
  },
  {
   "cell_type": "code",
   "execution_count": 64,
   "id": "7200161a-e4db-4169-8146-0eed9015b11a",
   "metadata": {},
   "outputs": [
    {
     "name": "stdout",
     "output_type": "stream",
     "text": [
      "choose plate PID=P03 VID=P03_17\n"
     ]
    },
    {
     "name": "stderr",
     "output_type": "stream",
     "text": [
      "100%|████████████████████████████████████████████████████████████████████████████████████████████████████████████████████████████████████████████| 91/91 [00:00<00:00, 135.25it/s]\n"
     ]
    }
   ],
   "source": [
    "frames = eho.generate_object_video(index=-1, cache=True)"
   ]
  },
  {
   "cell_type": "code",
   "execution_count": 71,
   "id": "581fdd24-d383-40fd-a60e-de09625ab6aa",
   "metadata": {},
   "outputs": [],
   "source": [
    "clip = editor.ImageSequenceClip(frames, fps=25)\n",
    "clip.write_videofile('tmp/output.mp4', logger=None)"
   ]
  },
  {
   "cell_type": "code",
   "execution_count": 41,
   "id": "113f37fe-3f99-468e-bc5f-91be23725847",
   "metadata": {
    "collapsed": true,
    "jupyter": {
     "outputs_hidden": true
    },
    "tags": []
   },
   "outputs": [
    {
     "name": "stdout",
     "output_type": "stream",
     "text": [
      "choose bottle PID=P12 VID=P12_04\n"
     ]
    },
    {
     "name": "stderr",
     "output_type": "stream",
     "text": [
      "100%|█████████████████████████████████████████████████████████████████████████████████████████████████████████████████████████████████████████| 109/109 [00:02<00:00, 43.63it/s]\n"
     ]
    },
    {
     "name": "stdout",
     "output_type": "stream",
     "text": [
      "Moviepy - Building video tmp/inspect/bottle_P12_04_1611.mp4.\n",
      "Moviepy - Writing video tmp/inspect/bottle_P12_04_1611.mp4\n",
      "\n"
     ]
    },
    {
     "name": "stderr",
     "output_type": "stream",
     "text": [
      "                                                                                                                                                                                \r"
     ]
    },
    {
     "name": "stdout",
     "output_type": "stream",
     "text": [
      "Moviepy - Done !\n",
      "Moviepy - video ready tmp/inspect/bottle_P12_04_1611.mp4\n",
      "choose bottle PID=P12 VID=P12_04\n"
     ]
    },
    {
     "name": "stderr",
     "output_type": "stream",
     "text": [
      "100%|████████████████████████████████████████████████████████████████████████████████████████████████████████████████████████████████████████| 274/274 [00:01<00:00, 205.23it/s]\n"
     ]
    },
    {
     "name": "stdout",
     "output_type": "stream",
     "text": [
      "Moviepy - Building video tmp/inspect/bottle_P12_04_1740.mp4.\n",
      "Moviepy - Writing video tmp/inspect/bottle_P12_04_1740.mp4\n",
      "\n"
     ]
    },
    {
     "name": "stderr",
     "output_type": "stream",
     "text": [
      "                                                                                                                                                                                \r"
     ]
    },
    {
     "name": "stdout",
     "output_type": "stream",
     "text": [
      "Moviepy - Done !\n",
      "Moviepy - video ready tmp/inspect/bottle_P12_04_1740.mp4\n",
      "choose bottle PID=P24 VID=P24_05\n"
     ]
    },
    {
     "name": "stderr",
     "output_type": "stream",
     "text": [
      "100%|███████████████████████████████████████████████████████████████████████████████████████████████████████████████████████████████████████████| 80/80 [00:02<00:00, 38.55it/s]\n"
     ]
    },
    {
     "name": "stdout",
     "output_type": "stream",
     "text": [
      "Moviepy - Building video tmp/inspect/bottle_P24_05_45371.mp4.\n",
      "Moviepy - Writing video tmp/inspect/bottle_P24_05_45371.mp4\n",
      "\n"
     ]
    },
    {
     "name": "stderr",
     "output_type": "stream",
     "text": [
      "                                                                                                                                                                                \r"
     ]
    },
    {
     "name": "stdout",
     "output_type": "stream",
     "text": [
      "Moviepy - Done !\n",
      "Moviepy - video ready tmp/inspect/bottle_P24_05_45371.mp4\n",
      "choose bottle PID=P01 VID=P01_05\n"
     ]
    },
    {
     "name": "stderr",
     "output_type": "stream",
     "text": [
      "100%|█████████████████████████████████████████████████████████████████████████████████████████████████████████████████████████████████████████| 146/146 [00:03<00:00, 40.31it/s]\n"
     ]
    },
    {
     "name": "stdout",
     "output_type": "stream",
     "text": [
      "Moviepy - Building video tmp/inspect/bottle_P01_05_33876.mp4.\n",
      "Moviepy - Writing video tmp/inspect/bottle_P01_05_33876.mp4\n",
      "\n"
     ]
    },
    {
     "name": "stderr",
     "output_type": "stream",
     "text": [
      "                                                                                                                                                                                \r"
     ]
    },
    {
     "name": "stdout",
     "output_type": "stream",
     "text": [
      "Moviepy - Done !\n",
      "Moviepy - video ready tmp/inspect/bottle_P01_05_33876.mp4\n",
      "choose bottle PID=P24 VID=P24_08\n"
     ]
    },
    {
     "name": "stderr",
     "output_type": "stream",
     "text": [
      "100%|███████████████████████████████████████████████████████████████████████████████████████████████████████████████████████████████████████████| 74/74 [00:02<00:00, 32.22it/s]\n"
     ]
    },
    {
     "name": "stdout",
     "output_type": "stream",
     "text": [
      "Moviepy - Building video tmp/inspect/bottle_P24_08_51978.mp4.\n",
      "Moviepy - Writing video tmp/inspect/bottle_P24_08_51978.mp4\n",
      "\n"
     ]
    },
    {
     "name": "stderr",
     "output_type": "stream",
     "text": [
      "                                                                                                                                                                                \r"
     ]
    },
    {
     "name": "stdout",
     "output_type": "stream",
     "text": [
      "Moviepy - Done !\n",
      "Moviepy - video ready tmp/inspect/bottle_P24_08_51978.mp4\n",
      "choose jug PID=P06 VID=P06_05\n"
     ]
    },
    {
     "name": "stderr",
     "output_type": "stream",
     "text": [
      "100%|████████████████████████████████████████████████████████████████████████████████████████████████████████████████████████████████████████| 133/133 [00:00<00:00, 134.39it/s]\n"
     ]
    },
    {
     "name": "stdout",
     "output_type": "stream",
     "text": [
      "Moviepy - Building video tmp/inspect/jug_P06_05_72075.mp4.\n",
      "Moviepy - Writing video tmp/inspect/jug_P06_05_72075.mp4\n",
      "\n"
     ]
    },
    {
     "name": "stderr",
     "output_type": "stream",
     "text": [
      "                                                                                                                                                                                \r"
     ]
    },
    {
     "name": "stdout",
     "output_type": "stream",
     "text": [
      "Moviepy - Done !\n",
      "Moviepy - video ready tmp/inspect/jug_P06_05_72075.mp4\n",
      "choose jug PID=P06 VID=P06_05\n"
     ]
    },
    {
     "name": "stderr",
     "output_type": "stream",
     "text": [
      "100%|████████████████████████████████████████████████████████████████████████████████████████████████████████████████████████████████████████| 133/133 [00:00<00:00, 134.59it/s]\n"
     ]
    },
    {
     "name": "stdout",
     "output_type": "stream",
     "text": [
      "Moviepy - Building video tmp/inspect/jug_P06_05_72075.mp4.\n",
      "Moviepy - Writing video tmp/inspect/jug_P06_05_72075.mp4\n",
      "\n"
     ]
    },
    {
     "name": "stderr",
     "output_type": "stream",
     "text": [
      "                                                                                                                                                                                \r"
     ]
    },
    {
     "name": "stdout",
     "output_type": "stream",
     "text": [
      "Moviepy - Done !\n",
      "Moviepy - video ready tmp/inspect/jug_P06_05_72075.mp4\n",
      "choose jug PID=P06 VID=P06_05\n"
     ]
    },
    {
     "name": "stderr",
     "output_type": "stream",
     "text": [
      "100%|████████████████████████████████████████████████████████████████████████████████████████████████████████████████████████████████████████| 133/133 [00:00<00:00, 134.42it/s]\n"
     ]
    },
    {
     "name": "stdout",
     "output_type": "stream",
     "text": [
      "Moviepy - Building video tmp/inspect/jug_P06_05_72075.mp4.\n",
      "Moviepy - Writing video tmp/inspect/jug_P06_05_72075.mp4\n",
      "\n"
     ]
    },
    {
     "name": "stderr",
     "output_type": "stream",
     "text": [
      "                                                                                                                                                                                \r"
     ]
    },
    {
     "name": "stdout",
     "output_type": "stream",
     "text": [
      "Moviepy - Done !\n",
      "Moviepy - video ready tmp/inspect/jug_P06_05_72075.mp4\n",
      "choose jug PID=P06 VID=P06_05\n"
     ]
    },
    {
     "name": "stderr",
     "output_type": "stream",
     "text": [
      "100%|████████████████████████████████████████████████████████████████████████████████████████████████████████████████████████████████████████| 133/133 [00:00<00:00, 134.52it/s]\n"
     ]
    },
    {
     "name": "stdout",
     "output_type": "stream",
     "text": [
      "Moviepy - Building video tmp/inspect/jug_P06_05_72075.mp4.\n",
      "Moviepy - Writing video tmp/inspect/jug_P06_05_72075.mp4\n",
      "\n"
     ]
    },
    {
     "name": "stderr",
     "output_type": "stream",
     "text": [
      "                                                                                                                                                                                \r"
     ]
    },
    {
     "name": "stdout",
     "output_type": "stream",
     "text": [
      "Moviepy - Done !\n",
      "Moviepy - video ready tmp/inspect/jug_P06_05_72075.mp4\n",
      "choose jug PID=P06 VID=P06_05\n"
     ]
    },
    {
     "name": "stderr",
     "output_type": "stream",
     "text": [
      "100%|████████████████████████████████████████████████████████████████████████████████████████████████████████████████████████████████████████| 133/133 [00:00<00:00, 134.55it/s]\n"
     ]
    },
    {
     "name": "stdout",
     "output_type": "stream",
     "text": [
      "Moviepy - Building video tmp/inspect/jug_P06_05_72075.mp4.\n",
      "Moviepy - Writing video tmp/inspect/jug_P06_05_72075.mp4\n",
      "\n"
     ]
    },
    {
     "name": "stderr",
     "output_type": "stream",
     "text": [
      "                                                                                                                                                                                \r"
     ]
    },
    {
     "name": "stdout",
     "output_type": "stream",
     "text": [
      "Moviepy - Done !\n",
      "Moviepy - video ready tmp/inspect/jug_P06_05_72075.mp4\n",
      "pitcher has no valid videos\n",
      "pitcher has no valid videos\n",
      "pitcher has no valid videos\n",
      "pitcher has no valid videos\n",
      "pitcher has no valid videos\n",
      "choose plate PID=P01 VID=P01_09\n"
     ]
    },
    {
     "name": "stderr",
     "output_type": "stream",
     "text": [
      "100%|█████████████████████████████████████████████████████████████████████████████████████████████████████████████████████████████████████████| 314/314 [00:09<00:00, 32.64it/s]\n"
     ]
    },
    {
     "name": "stdout",
     "output_type": "stream",
     "text": [
      "Moviepy - Building video tmp/inspect/plate_P01_09_190375.mp4.\n",
      "Moviepy - Writing video tmp/inspect/plate_P01_09_190375.mp4\n",
      "\n"
     ]
    },
    {
     "name": "stderr",
     "output_type": "stream",
     "text": [
      "                                                                                                                                                                                \r"
     ]
    },
    {
     "name": "stdout",
     "output_type": "stream",
     "text": [
      "Moviepy - Done !\n",
      "Moviepy - video ready tmp/inspect/plate_P01_09_190375.mp4\n",
      "choose plate PID=P26 VID=P26_02\n"
     ]
    },
    {
     "name": "stderr",
     "output_type": "stream",
     "text": [
      "100%|█████████████████████████████████████████████████████████████████████████████████████████████████████████████████████████████████████████| 109/109 [00:02<00:00, 48.99it/s]\n"
     ]
    },
    {
     "name": "stdout",
     "output_type": "stream",
     "text": [
      "Moviepy - Building video tmp/inspect/plate_P26_02_9684.mp4.\n",
      "Moviepy - Writing video tmp/inspect/plate_P26_02_9684.mp4\n",
      "\n"
     ]
    },
    {
     "name": "stderr",
     "output_type": "stream",
     "text": [
      "                                                                                                                                                                                \r"
     ]
    },
    {
     "name": "stdout",
     "output_type": "stream",
     "text": [
      "Moviepy - Done !\n",
      "Moviepy - video ready tmp/inspect/plate_P26_02_9684.mp4\n",
      "choose plate PID=P13 VID=P13_10\n"
     ]
    },
    {
     "name": "stderr",
     "output_type": "stream",
     "text": [
      "100%|███████████████████████████████████████████████████████████████████████████████████████████████████████████████████████████████████████████| 66/66 [00:01<00:00, 59.80it/s]\n"
     ]
    },
    {
     "name": "stdout",
     "output_type": "stream",
     "text": [
      "Moviepy - Building video tmp/inspect/plate_P13_10_407.mp4.\n",
      "Moviepy - Writing video tmp/inspect/plate_P13_10_407.mp4\n",
      "\n"
     ]
    },
    {
     "name": "stderr",
     "output_type": "stream",
     "text": [
      "                                                                                                                                                                                \r"
     ]
    },
    {
     "name": "stdout",
     "output_type": "stream",
     "text": [
      "Moviepy - Done !\n",
      "Moviepy - video ready tmp/inspect/plate_P13_10_407.mp4\n",
      "choose plate PID=P08 VID=P08_21\n"
     ]
    },
    {
     "name": "stderr",
     "output_type": "stream",
     "text": [
      "100%|███████████████████████████████████████████████████████████████████████████████████████████████████████████████████████████████████████████| 85/85 [00:02<00:00, 38.10it/s]\n"
     ]
    },
    {
     "name": "stdout",
     "output_type": "stream",
     "text": [
      "Moviepy - Building video tmp/inspect/plate_P08_21_13233.mp4.\n",
      "Moviepy - Writing video tmp/inspect/plate_P08_21_13233.mp4\n",
      "\n"
     ]
    },
    {
     "name": "stderr",
     "output_type": "stream",
     "text": [
      "                                                                                                                                                                                \r"
     ]
    },
    {
     "name": "stdout",
     "output_type": "stream",
     "text": [
      "Moviepy - Done !\n",
      "Moviepy - video ready tmp/inspect/plate_P08_21_13233.mp4\n",
      "choose plate PID=P03 VID=P03_04\n"
     ]
    },
    {
     "name": "stderr",
     "output_type": "stream",
     "text": [
      "100%|███████████████████████████████████████████████████████████████████████████████████████████████████████████████████████████████████████████| 60/60 [00:01<00:00, 43.48it/s]\n"
     ]
    },
    {
     "name": "stdout",
     "output_type": "stream",
     "text": [
      "Moviepy - Building video tmp/inspect/plate_P03_04_67903.mp4.\n",
      "Moviepy - Writing video tmp/inspect/plate_P03_04_67903.mp4\n",
      "\n"
     ]
    },
    {
     "name": "stderr",
     "output_type": "stream",
     "text": [
      "                                                                                                                                                                                \r"
     ]
    },
    {
     "name": "stdout",
     "output_type": "stream",
     "text": [
      "Moviepy - Done !\n",
      "Moviepy - video ready tmp/inspect/plate_P03_04_67903.mp4\n",
      "choose cup PID=P23 VID=P23_02\n"
     ]
    },
    {
     "name": "stderr",
     "output_type": "stream",
     "text": [
      "100%|███████████████████████████████████████████████████████████████████████████████████████████████████████████████████████████████████████████| 62/62 [00:01<00:00, 34.72it/s]\n"
     ]
    },
    {
     "name": "stdout",
     "output_type": "stream",
     "text": [
      "Moviepy - Building video tmp/inspect/cup_P23_02_92204.mp4.\n",
      "Moviepy - Writing video tmp/inspect/cup_P23_02_92204.mp4\n",
      "\n"
     ]
    },
    {
     "name": "stderr",
     "output_type": "stream",
     "text": [
      "                                                                                                                                                                                \r"
     ]
    },
    {
     "name": "stdout",
     "output_type": "stream",
     "text": [
      "Moviepy - Done !\n",
      "Moviepy - video ready tmp/inspect/cup_P23_02_92204.mp4\n",
      "choose cup PID=P01 VID=P01_03\n"
     ]
    },
    {
     "name": "stderr",
     "output_type": "stream",
     "text": [
      "100%|███████████████████████████████████████████████████████████████████████████████████████████████████████████████████████████████████████████| 51/51 [00:00<00:00, 62.54it/s]\n"
     ]
    },
    {
     "name": "stdout",
     "output_type": "stream",
     "text": [
      "Moviepy - Building video tmp/inspect/cup_P01_03_3045.mp4.\n",
      "Moviepy - Writing video tmp/inspect/cup_P01_03_3045.mp4\n",
      "\n"
     ]
    },
    {
     "name": "stderr",
     "output_type": "stream",
     "text": [
      "                                                                                                                                                                                \r"
     ]
    },
    {
     "name": "stdout",
     "output_type": "stream",
     "text": [
      "Moviepy - Done !\n",
      "Moviepy - video ready tmp/inspect/cup_P01_03_3045.mp4\n",
      "choose cup PID=P04 VID=P04_13\n"
     ]
    },
    {
     "name": "stderr",
     "output_type": "stream",
     "text": [
      "100%|█████████████████████████████████████████████████████████████████████████████████████████████████████████████████████████████████████████| 171/171 [00:04<00:00, 42.37it/s]\n"
     ]
    },
    {
     "name": "stdout",
     "output_type": "stream",
     "text": [
      "Moviepy - Building video tmp/inspect/cup_P04_13_10393.mp4.\n",
      "Moviepy - Writing video tmp/inspect/cup_P04_13_10393.mp4\n",
      "\n"
     ]
    },
    {
     "name": "stderr",
     "output_type": "stream",
     "text": [
      "                                                                                                                                                                                \r"
     ]
    },
    {
     "name": "stdout",
     "output_type": "stream",
     "text": [
      "Moviepy - Done !\n",
      "Moviepy - video ready tmp/inspect/cup_P04_13_10393.mp4\n",
      "choose cup PID=P02 VID=P02_01\n"
     ]
    },
    {
     "name": "stderr",
     "output_type": "stream",
     "text": [
      "100%|███████████████████████████████████████████████████████████████████████████████████████████████████████████████████████████████████████████| 74/74 [00:01<00:00, 54.58it/s]\n"
     ]
    },
    {
     "name": "stdout",
     "output_type": "stream",
     "text": [
      "Moviepy - Building video tmp/inspect/cup_P02_01_7291.mp4.\n",
      "Moviepy - Writing video tmp/inspect/cup_P02_01_7291.mp4\n",
      "\n"
     ]
    },
    {
     "name": "stderr",
     "output_type": "stream",
     "text": [
      "                                                                                                                                                                                \r"
     ]
    },
    {
     "name": "stdout",
     "output_type": "stream",
     "text": [
      "Moviepy - Done !\n",
      "Moviepy - video ready tmp/inspect/cup_P02_01_7291.mp4\n",
      "choose cup PID=P01 VID=P01_09\n"
     ]
    },
    {
     "name": "stderr",
     "output_type": "stream",
     "text": [
      "100%|███████████████████████████████████████████████████████████████████████████████████████████████████████████████████████████████████████████| 81/81 [00:01<00:00, 41.26it/s]\n"
     ]
    },
    {
     "name": "stdout",
     "output_type": "stream",
     "text": [
      "Moviepy - Building video tmp/inspect/cup_P01_09_6796.mp4.\n",
      "Moviepy - Writing video tmp/inspect/cup_P01_09_6796.mp4\n",
      "\n"
     ]
    },
    {
     "name": "stderr",
     "output_type": "stream",
     "text": [
      "                                                                                                                                                                                \r"
     ]
    },
    {
     "name": "stdout",
     "output_type": "stream",
     "text": [
      "Moviepy - Done !\n",
      "Moviepy - video ready tmp/inspect/cup_P01_09_6796.mp4\n",
      "phone has no valid videos\n",
      "phone has no valid videos\n",
      "phone has no valid videos\n",
      "phone has no valid videos\n",
      "phone has no valid videos\n",
      "choose can PID=P03 VID=P03_04\n"
     ]
    },
    {
     "name": "stderr",
     "output_type": "stream",
     "text": [
      "100%|███████████████████████████████████████████████████████████████████████████████████████████████████████████████████████████████████████████| 59/59 [00:01<00:00, 43.54it/s]\n"
     ]
    },
    {
     "name": "stdout",
     "output_type": "stream",
     "text": [
      "Moviepy - Building video tmp/inspect/can_P03_04_916.mp4.\n",
      "Moviepy - Writing video tmp/inspect/can_P03_04_916.mp4\n",
      "\n"
     ]
    },
    {
     "name": "stderr",
     "output_type": "stream",
     "text": [
      "                                                                                                                                                                                \r"
     ]
    },
    {
     "name": "stdout",
     "output_type": "stream",
     "text": [
      "Moviepy - Done !\n",
      "Moviepy - video ready tmp/inspect/can_P03_04_916.mp4\n",
      "choose can PID=P12 VID=P12_02\n"
     ]
    },
    {
     "name": "stderr",
     "output_type": "stream",
     "text": [
      "100%|█████████████████████████████████████████████████████████████████████████████████████████████████████████████████████████████████████████| 225/225 [00:06<00:00, 35.05it/s]\n"
     ]
    },
    {
     "name": "stdout",
     "output_type": "stream",
     "text": [
      "Moviepy - Building video tmp/inspect/can_P12_02_62341.mp4.\n",
      "Moviepy - Writing video tmp/inspect/can_P12_02_62341.mp4\n",
      "\n"
     ]
    },
    {
     "name": "stderr",
     "output_type": "stream",
     "text": [
      "                                                                                                                                                                                \r"
     ]
    },
    {
     "name": "stdout",
     "output_type": "stream",
     "text": [
      "Moviepy - Done !\n",
      "Moviepy - video ready tmp/inspect/can_P12_02_62341.mp4\n",
      "choose can PID=P02 VID=P02_09\n"
     ]
    },
    {
     "name": "stderr",
     "output_type": "stream",
     "text": [
      "100%|███████████████████████████████████████████████████████████████████████████████████████████████████████████████████████████████████████████| 72/72 [00:01<00:00, 36.59it/s]\n"
     ]
    },
    {
     "name": "stdout",
     "output_type": "stream",
     "text": [
      "Moviepy - Building video tmp/inspect/can_P02_09_42615.mp4.\n",
      "Moviepy - Writing video tmp/inspect/can_P02_09_42615.mp4\n",
      "\n"
     ]
    },
    {
     "name": "stderr",
     "output_type": "stream",
     "text": [
      "                                                                                                                                                                                \r"
     ]
    },
    {
     "name": "stdout",
     "output_type": "stream",
     "text": [
      "Moviepy - Done !\n",
      "Moviepy - video ready tmp/inspect/can_P02_09_42615.mp4\n",
      "choose can PID=P12 VID=P12_02\n"
     ]
    },
    {
     "name": "stderr",
     "output_type": "stream",
     "text": [
      "100%|█████████████████████████████████████████████████████████████████████████████████████████████████████████████████████████████████████████| 187/187 [00:04<00:00, 40.50it/s]\n"
     ]
    },
    {
     "name": "stdout",
     "output_type": "stream",
     "text": [
      "Moviepy - Building video tmp/inspect/can_P12_02_14704.mp4.\n",
      "Moviepy - Writing video tmp/inspect/can_P12_02_14704.mp4\n",
      "\n"
     ]
    },
    {
     "name": "stderr",
     "output_type": "stream",
     "text": [
      "                                                                                                                                                                                \r"
     ]
    },
    {
     "name": "stdout",
     "output_type": "stream",
     "text": [
      "Moviepy - Done !\n",
      "Moviepy - video ready tmp/inspect/can_P12_02_14704.mp4\n",
      "choose can PID=P03 VID=P03_04\n"
     ]
    },
    {
     "name": "stderr",
     "output_type": "stream",
     "text": [
      "100%|███████████████████████████████████████████████████████████████████████████████████████████████████████████████████████████████████████████| 72/72 [00:01<00:00, 42.91it/s]\n"
     ]
    },
    {
     "name": "stdout",
     "output_type": "stream",
     "text": [
      "Moviepy - Building video tmp/inspect/can_P03_04_834.mp4.\n",
      "Moviepy - Writing video tmp/inspect/can_P03_04_834.mp4\n",
      "\n"
     ]
    },
    {
     "name": "stderr",
     "output_type": "stream",
     "text": [
      "                                                                                                                                                                                \r"
     ]
    },
    {
     "name": "stdout",
     "output_type": "stream",
     "text": [
      "Moviepy - Done !\n",
      "Moviepy - video ready tmp/inspect/can_P03_04_834.mp4\n"
     ]
    }
   ],
   "source": [
    "obj_list = ['bottle', 'jug', 'pitcher', 'plate', 'cup', 'phone', 'can']\n",
    "for obj in obj_list:\n",
    "    for i in range(5):\n",
    "        try:\n",
    "            frames = eho.generate_object_video(obj=obj, index=-1, cache=True)\n",
    "            clip = editor.ImageSequenceClip(frames, fps=25)\n",
    "            clip.write_videofile(f'tmp/inspect/{obj}_{eho._vid}_{eho._st}.mp4')\n",
    "        except ValueError as e:\n",
    "            print(e)\n"
   ]
  },
  {
   "cell_type": "raw",
   "id": "5953f317-b914-48ef-bb6f-ee43f295d83e",
   "metadata": {},
   "source": [
    "Video('tmp/output.mp4')"
   ]
  },
  {
   "cell_type": "markdown",
   "id": "630d7c6c-db54-4a4a-a7d4-7c1929e960c9",
   "metadata": {},
   "source": [
    "# Analysis set"
   ]
  },
  {
   "cell_type": "code",
   "execution_count": 4,
   "id": "2fab194f-f763-4536-aa89-6c81a6843afb",
   "metadata": {},
   "outputs": [],
   "source": [
    "import epylab as pylab\n",
    "import dask.dataframe as dd\n",
    "import pandas as pd"
   ]
  },
  {
   "cell_type": "markdown",
   "id": "cf540cf5-268b-4d95-896d-d081f3d5e2a7",
   "metadata": {},
   "source": [
    "## Loading -> 67217"
   ]
  },
  {
   "cell_type": "code",
   "execution_count": 187,
   "id": "c045d606-64ba-4b01-ba2d-f7d6c64b9bb9",
   "metadata": {},
   "outputs": [
    {
     "data": {
      "text/plain": [
       "67217"
      ]
     },
     "execution_count": 187,
     "metadata": {},
     "output_type": "execute_result"
    }
   ],
   "source": [
    "annot_df = '/home/skynet/Zhifan/data/epic/EPIC_100_train.csv'\n",
    "annot_df = pd.read_csv(annot_df)\n",
    "len(annot_df)"
   ]
  },
  {
   "cell_type": "code",
   "execution_count": 82,
   "id": "d2bf71d8-6c5c-4d9f-90c0-fc886a8d192f",
   "metadata": {},
   "outputs": [],
   "source": [
    "def write_json(df):\n",
    "    import json\n",
    "    df = df[df['narration_timestamp'].notnull()]\n",
    "    with open('/home/skynet/Zhifan/epic_clip_viewer/EPIC_100_train.json', 'w') as fp:\n",
    "        json.dump(df.to_dict(orient='list'), fp)"
   ]
  },
  {
   "cell_type": "markdown",
   "id": "3a1c3b20-7b3e-49cf-a1c9-26e9d056525e",
   "metadata": {},
   "source": [
    "## Filter no seg \n",
    "- by vid: **8700**\n",
    "- by requiring (st, ed) be included in gt-pair: **7789**"
   ]
  },
  {
   "cell_type": "code",
   "execution_count": 91,
   "id": "1dc463ec-6b33-4150-a653-0c28055fc02b",
   "metadata": {},
   "outputs": [
    {
     "name": "stderr",
     "output_type": "stream",
     "text": [
      "100%|█████████████████████████████████████████████████████████████████████████████████████████████████████████████████████████████████████████████████████████████████████████████████████████████████████████| 52/52 [00:10<00:00,  4.79it/s]\n"
     ]
    }
   ],
   "source": [
    "from pathlib import Path\n",
    "import glob, json, tqdm\n",
    "all_segs = '/home/skynet/Zhifan/data/more_segs'\n",
    "data_root = Path(all_segs)\n",
    "pid_set = set()\n",
    "vid_set = set()\n",
    "vid_map = dict()\n",
    "for fname in tqdm.tqdm(glob.glob(str(data_root/\"*.json\"))):\n",
    "    with open(fname) as fp:\n",
    "        data = json.load(fp)\n",
    "    for ann in data:\n",
    "        for doc in ann['documents']:\n",
    "            vid = doc['directory'].split('/')[0]\n",
    "            pid = vid[:3]\n",
    "            frame_id = int(doc['name'].split('.')[0].split('_')[-1])\n",
    "            pid_set.add(pid)\n",
    "            vid_set.add(vid)\n",
    "            if vid not in vid_map:\n",
    "                vid_map[vid] = [frame_id]\n",
    "            else:\n",
    "                vid_map[vid].append(frame_id)"
   ]
  },
  {
   "cell_type": "code",
   "execution_count": 188,
   "id": "645005e9-5100-4e85-9018-07ed539870db",
   "metadata": {},
   "outputs": [
    {
     "name": "stdout",
     "output_type": "stream",
     "text": [
      "8703\n",
      "7789\n"
     ]
    }
   ],
   "source": [
    "import bisect\n",
    "annot_df = annot_df[annot_df.video_id.isin(list(vid_map.keys()))]\n",
    "print(len(annot_df))\n",
    "for k in vid_map.keys():\n",
    "    vid_map[k] = sorted(vid_map[k])\n",
    "keep = []\n",
    "for i, annot in (annot_df.iterrows()):\n",
    "    vid = annot.video_id\n",
    "    st, ed = annot.start_frame, annot.stop_frame\n",
    "    L = vid_map[vid]\n",
    "    l = bisect.bisect_left(L, st)\n",
    "    if l == 0:\n",
    "        continue\n",
    "    r = bisect.bisect_right(L, ed)\n",
    "    if r == len(L):\n",
    "        continue\n",
    "    keep.append(i)\n",
    "\n",
    "annot_df = annot_df.loc[keep, :]\n",
    "print(len(annot_df))"
   ]
  },
  {
   "cell_type": "markdown",
   "id": "cc25a364-2d34-4445-a8fb-3a48612d3685",
   "metadata": {},
   "source": [
    "## Filter nouns -> 359"
   ]
  },
  {
   "cell_type": "code",
   "execution_count": 191,
   "id": "bca0ee0b-5a92-4e50-920b-49e5db3fb087",
   "metadata": {},
   "outputs": [
    {
     "name": "stdout",
     "output_type": "stream",
     "text": [
      "359\n"
     ]
    }
   ],
   "source": [
    "nouns=[\n",
    "        \"can\",\n",
    "        \"cup\", # mug glass\n",
    "        \"plate\",\n",
    "        \"bottle\",\n",
    "        \"phone\",\n",
    "        \"jug\",\n",
    "        # \"pitcher\",\n",
    "    ]\n",
    "\n",
    "annot_df = annot_df[annot_df.noun.isin(nouns)]\n",
    "print(len(annot_df))"
   ]
  },
  {
   "cell_type": "code",
   "execution_count": 190,
   "id": "c1b729da-571c-4824-9a23-baf921980db7",
   "metadata": {},
   "outputs": [
    {
     "data": {
      "text/html": [
       "<div>\n",
       "<style scoped>\n",
       "    .dataframe tbody tr th:only-of-type {\n",
       "        vertical-align: middle;\n",
       "    }\n",
       "\n",
       "    .dataframe tbody tr th {\n",
       "        vertical-align: top;\n",
       "    }\n",
       "\n",
       "    .dataframe thead th {\n",
       "        text-align: right;\n",
       "    }\n",
       "</style>\n",
       "<table border=\"1\" class=\"dataframe\">\n",
       "  <thead>\n",
       "    <tr style=\"text-align: right;\">\n",
       "      <th></th>\n",
       "      <th>narration_id</th>\n",
       "      <th>participant_id</th>\n",
       "      <th>video_id</th>\n",
       "      <th>narration_timestamp</th>\n",
       "      <th>start_timestamp</th>\n",
       "      <th>stop_timestamp</th>\n",
       "      <th>start_frame</th>\n",
       "      <th>stop_frame</th>\n",
       "      <th>narration</th>\n",
       "      <th>verb</th>\n",
       "      <th>verb_class</th>\n",
       "      <th>noun</th>\n",
       "      <th>noun_class</th>\n",
       "      <th>all_nouns</th>\n",
       "      <th>all_noun_classes</th>\n",
       "    </tr>\n",
       "  </thead>\n",
       "  <tbody>\n",
       "    <tr>\n",
       "      <th>1</th>\n",
       "      <td>P01_01_1</td>\n",
       "      <td>P01</td>\n",
       "      <td>P01_01</td>\n",
       "      <td>00:00:02.629</td>\n",
       "      <td>00:00:04.37</td>\n",
       "      <td>00:00:06.17</td>\n",
       "      <td>262</td>\n",
       "      <td>370</td>\n",
       "      <td>turn on light</td>\n",
       "      <td>turn-on</td>\n",
       "      <td>6</td>\n",
       "      <td>light</td>\n",
       "      <td>114</td>\n",
       "      <td>['light']</td>\n",
       "      <td>[114]</td>\n",
       "    </tr>\n",
       "    <tr>\n",
       "      <th>2</th>\n",
       "      <td>P01_01_10</td>\n",
       "      <td>P01</td>\n",
       "      <td>P01_01</td>\n",
       "      <td>00:00:23.340</td>\n",
       "      <td>00:00:24.97</td>\n",
       "      <td>00:00:26.20</td>\n",
       "      <td>1498</td>\n",
       "      <td>1572</td>\n",
       "      <td>open drawer</td>\n",
       "      <td>open</td>\n",
       "      <td>3</td>\n",
       "      <td>drawer</td>\n",
       "      <td>8</td>\n",
       "      <td>['drawer']</td>\n",
       "      <td>[8]</td>\n",
       "    </tr>\n",
       "    <tr>\n",
       "      <th>3</th>\n",
       "      <td>P01_01_100</td>\n",
       "      <td>P01</td>\n",
       "      <td>P01_01</td>\n",
       "      <td>00:07:57.919</td>\n",
       "      <td>00:07:59.75</td>\n",
       "      <td>00:08:00.88</td>\n",
       "      <td>28785</td>\n",
       "      <td>28852</td>\n",
       "      <td>take cup</td>\n",
       "      <td>take</td>\n",
       "      <td>0</td>\n",
       "      <td>cup</td>\n",
       "      <td>13</td>\n",
       "      <td>['cup']</td>\n",
       "      <td>[13]</td>\n",
       "    </tr>\n",
       "    <tr>\n",
       "      <th>4</th>\n",
       "      <td>P01_01_101</td>\n",
       "      <td>P01</td>\n",
       "      <td>P01_01</td>\n",
       "      <td>00:08:00.020</td>\n",
       "      <td>00:08:01.47</td>\n",
       "      <td>00:08:02.21</td>\n",
       "      <td>28888</td>\n",
       "      <td>28932</td>\n",
       "      <td>open cupboard</td>\n",
       "      <td>open</td>\n",
       "      <td>3</td>\n",
       "      <td>cupboard</td>\n",
       "      <td>3</td>\n",
       "      <td>['cupboard']</td>\n",
       "      <td>[3]</td>\n",
       "    </tr>\n",
       "    <tr>\n",
       "      <th>5</th>\n",
       "      <td>P01_01_102</td>\n",
       "      <td>P01</td>\n",
       "      <td>P01_01</td>\n",
       "      <td>00:08:01.229</td>\n",
       "      <td>00:08:02.13</td>\n",
       "      <td>00:08:03.00</td>\n",
       "      <td>28927</td>\n",
       "      <td>28980</td>\n",
       "      <td>put cup into cupboard</td>\n",
       "      <td>put-into</td>\n",
       "      <td>5</td>\n",
       "      <td>cup</td>\n",
       "      <td>13</td>\n",
       "      <td>['cup', 'cupboard']</td>\n",
       "      <td>[13, 3]</td>\n",
       "    </tr>\n",
       "    <tr>\n",
       "      <th>...</th>\n",
       "      <td>...</td>\n",
       "      <td>...</td>\n",
       "      <td>...</td>\n",
       "      <td>...</td>\n",
       "      <td>...</td>\n",
       "      <td>...</td>\n",
       "      <td>...</td>\n",
       "      <td>...</td>\n",
       "      <td>...</td>\n",
       "      <td>...</td>\n",
       "      <td>...</td>\n",
       "      <td>...</td>\n",
       "      <td>...</td>\n",
       "      <td>...</td>\n",
       "      <td>...</td>\n",
       "    </tr>\n",
       "    <tr>\n",
       "      <th>67208</th>\n",
       "      <td>P37_103_68</td>\n",
       "      <td>P37</td>\n",
       "      <td>P37_103</td>\n",
       "      <td>00:06:14.154</td>\n",
       "      <td>00:06:13.68</td>\n",
       "      <td>00:06:15.48</td>\n",
       "      <td>18684</td>\n",
       "      <td>18774</td>\n",
       "      <td>wring out cleaning towel</td>\n",
       "      <td>wring-out</td>\n",
       "      <td>18</td>\n",
       "      <td>towel:cleaning</td>\n",
       "      <td>52</td>\n",
       "      <td>['towel:cleaning']</td>\n",
       "      <td>[52]</td>\n",
       "    </tr>\n",
       "    <tr>\n",
       "      <th>67209</th>\n",
       "      <td>P37_103_69</td>\n",
       "      <td>P37</td>\n",
       "      <td>P37_103</td>\n",
       "      <td>00:06:15.904</td>\n",
       "      <td>00:06:15.92</td>\n",
       "      <td>00:06:16.69</td>\n",
       "      <td>18796</td>\n",
       "      <td>18834</td>\n",
       "      <td>turn on tap</td>\n",
       "      <td>turn-on</td>\n",
       "      <td>6</td>\n",
       "      <td>tap</td>\n",
       "      <td>0</td>\n",
       "      <td>['tap']</td>\n",
       "      <td>[0]</td>\n",
       "    </tr>\n",
       "    <tr>\n",
       "      <th>67210</th>\n",
       "      <td>P37_103_7</td>\n",
       "      <td>P37</td>\n",
       "      <td>P37_103</td>\n",
       "      <td>00:00:39.655</td>\n",
       "      <td>00:00:39.54</td>\n",
       "      <td>00:00:40.52</td>\n",
       "      <td>1977</td>\n",
       "      <td>2026</td>\n",
       "      <td>take chicken thighs</td>\n",
       "      <td>take</td>\n",
       "      <td>0</td>\n",
       "      <td>thigh:chicken</td>\n",
       "      <td>57</td>\n",
       "      <td>['thigh:chicken']</td>\n",
       "      <td>[57]</td>\n",
       "    </tr>\n",
       "    <tr>\n",
       "      <th>67215</th>\n",
       "      <td>P37_103_8</td>\n",
       "      <td>P37</td>\n",
       "      <td>P37_103</td>\n",
       "      <td>00:00:41.151</td>\n",
       "      <td>00:00:40.57</td>\n",
       "      <td>00:00:44.19</td>\n",
       "      <td>2028</td>\n",
       "      <td>2209</td>\n",
       "      <td>debone chicken thighs</td>\n",
       "      <td>debone</td>\n",
       "      <td>30</td>\n",
       "      <td>thigh:chicken</td>\n",
       "      <td>57</td>\n",
       "      <td>['thigh:chicken']</td>\n",
       "      <td>[57]</td>\n",
       "    </tr>\n",
       "    <tr>\n",
       "      <th>67216</th>\n",
       "      <td>P37_103_9</td>\n",
       "      <td>P37</td>\n",
       "      <td>P37_103</td>\n",
       "      <td>00:00:44.907</td>\n",
       "      <td>00:00:46.85</td>\n",
       "      <td>00:00:54.64</td>\n",
       "      <td>2342</td>\n",
       "      <td>2732</td>\n",
       "      <td>debone chicken thighs</td>\n",
       "      <td>debone</td>\n",
       "      <td>30</td>\n",
       "      <td>thigh:chicken</td>\n",
       "      <td>57</td>\n",
       "      <td>['thigh:chicken']</td>\n",
       "      <td>[57]</td>\n",
       "    </tr>\n",
       "  </tbody>\n",
       "</table>\n",
       "<p>7789 rows × 15 columns</p>\n",
       "</div>"
      ],
      "text/plain": [
       "      narration_id participant_id video_id narration_timestamp  \\\n",
       "1         P01_01_1            P01   P01_01        00:00:02.629   \n",
       "2        P01_01_10            P01   P01_01        00:00:23.340   \n",
       "3       P01_01_100            P01   P01_01        00:07:57.919   \n",
       "4       P01_01_101            P01   P01_01        00:08:00.020   \n",
       "5       P01_01_102            P01   P01_01        00:08:01.229   \n",
       "...            ...            ...      ...                 ...   \n",
       "67208   P37_103_68            P37  P37_103        00:06:14.154   \n",
       "67209   P37_103_69            P37  P37_103        00:06:15.904   \n",
       "67210    P37_103_7            P37  P37_103        00:00:39.655   \n",
       "67215    P37_103_8            P37  P37_103        00:00:41.151   \n",
       "67216    P37_103_9            P37  P37_103        00:00:44.907   \n",
       "\n",
       "      start_timestamp stop_timestamp  start_frame  stop_frame  \\\n",
       "1         00:00:04.37    00:00:06.17          262         370   \n",
       "2         00:00:24.97    00:00:26.20         1498        1572   \n",
       "3         00:07:59.75    00:08:00.88        28785       28852   \n",
       "4         00:08:01.47    00:08:02.21        28888       28932   \n",
       "5         00:08:02.13    00:08:03.00        28927       28980   \n",
       "...               ...            ...          ...         ...   \n",
       "67208     00:06:13.68    00:06:15.48        18684       18774   \n",
       "67209     00:06:15.92    00:06:16.69        18796       18834   \n",
       "67210     00:00:39.54    00:00:40.52         1977        2026   \n",
       "67215     00:00:40.57    00:00:44.19         2028        2209   \n",
       "67216     00:00:46.85    00:00:54.64         2342        2732   \n",
       "\n",
       "                      narration       verb  verb_class            noun  \\\n",
       "1                 turn on light    turn-on           6           light   \n",
       "2                   open drawer       open           3          drawer   \n",
       "3                      take cup       take           0             cup   \n",
       "4                 open cupboard       open           3        cupboard   \n",
       "5         put cup into cupboard   put-into           5             cup   \n",
       "...                         ...        ...         ...             ...   \n",
       "67208  wring out cleaning towel  wring-out          18  towel:cleaning   \n",
       "67209               turn on tap    turn-on           6             tap   \n",
       "67210       take chicken thighs       take           0   thigh:chicken   \n",
       "67215     debone chicken thighs     debone          30   thigh:chicken   \n",
       "67216     debone chicken thighs     debone          30   thigh:chicken   \n",
       "\n",
       "       noun_class            all_nouns all_noun_classes  \n",
       "1             114            ['light']            [114]  \n",
       "2               8           ['drawer']              [8]  \n",
       "3              13              ['cup']             [13]  \n",
       "4               3         ['cupboard']              [3]  \n",
       "5              13  ['cup', 'cupboard']          [13, 3]  \n",
       "...           ...                  ...              ...  \n",
       "67208          52   ['towel:cleaning']             [52]  \n",
       "67209           0              ['tap']              [0]  \n",
       "67210          57    ['thigh:chicken']             [57]  \n",
       "67215          57    ['thigh:chicken']             [57]  \n",
       "67216          57    ['thigh:chicken']             [57]  \n",
       "\n",
       "[7789 rows x 15 columns]"
      ]
     },
     "execution_count": 190,
     "metadata": {},
     "output_type": "execute_result"
    }
   ],
   "source": [
    "annot_df"
   ]
  },
  {
   "cell_type": "raw",
   "id": "fac0d4ff-6028-40a2-a2af-dc046c2fe277",
   "metadata": {},
   "source": [
    "annot_df.to_json('/tmp/tmp.json', orient='index')"
   ]
  },
  {
   "cell_type": "code",
   "execution_count": 192,
   "id": "484bf9ea-ef06-4208-89ab-ebc247ec8ca8",
   "metadata": {},
   "outputs": [],
   "source": [
    "annot_df.to_json('/home/skynet/Zhifan/epic_clip_viewer/annot_df.json', orient='records')"
   ]
  },
  {
   "cell_type": "raw",
   "id": "dcc8233b-b905-4000-9514-4a9b2e35c444",
   "metadata": {},
   "source": [
    "write_json(annot_df)"
   ]
  },
  {
   "cell_type": "code",
   "execution_count": 166,
   "id": "3da46aee-4954-47b0-8387-92629b9486b4",
   "metadata": {},
   "outputs": [
    {
     "data": {
      "text/plain": [
       "(array([24., 17., 15., 20., 14., 27., 47., 98., 52., 45.]),\n",
       " array([ 0.,  4.,  8., 12., 16., 20., 24., 28., 32., 36., 40.]),\n",
       " <BarContainer object of 10 artists>)"
      ]
     },
     "execution_count": 166,
     "metadata": {},
     "output_type": "execute_result"
    },
    {
     "data": {
      "image/png": "[encoded data removed]",
      "text/plain": [
       "<Figure size 432x288 with 1 Axes>"
      ]
     },
     "metadata": {
      "needs_background": "light"
     },
     "output_type": "display_data"
    }
   ],
   "source": [
    "pylab.hist(annot_df.video_id)"
   ]
  },
  {
   "cell_type": "code",
   "execution_count": 167,
   "id": "92c1ba65-3bbf-4a41-a633-4b52fb1a2e68",
   "metadata": {},
   "outputs": [
    {
     "data": {
      "text/html": [
       "<div>\n",
       "<style scoped>\n",
       "    .dataframe tbody tr th:only-of-type {\n",
       "        vertical-align: middle;\n",
       "    }\n",
       "\n",
       "    .dataframe tbody tr th {\n",
       "        vertical-align: top;\n",
       "    }\n",
       "\n",
       "    .dataframe thead th {\n",
       "        text-align: right;\n",
       "    }\n",
       "</style>\n",
       "<table border=\"1\" class=\"dataframe\">\n",
       "  <thead>\n",
       "    <tr style=\"text-align: right;\">\n",
       "      <th></th>\n",
       "      <th>narration_id</th>\n",
       "      <th>participant_id</th>\n",
       "      <th>video_id</th>\n",
       "      <th>narration_timestamp</th>\n",
       "      <th>start_timestamp</th>\n",
       "      <th>stop_timestamp</th>\n",
       "      <th>start_frame</th>\n",
       "      <th>stop_frame</th>\n",
       "      <th>narration</th>\n",
       "      <th>verb</th>\n",
       "      <th>verb_class</th>\n",
       "      <th>noun</th>\n",
       "      <th>noun_class</th>\n",
       "      <th>all_nouns</th>\n",
       "      <th>all_noun_classes</th>\n",
       "    </tr>\n",
       "  </thead>\n",
       "  <tbody>\n",
       "    <tr>\n",
       "      <th>3</th>\n",
       "      <td>P01_01_100</td>\n",
       "      <td>P01</td>\n",
       "      <td>P01_01</td>\n",
       "      <td>00:07:57.919</td>\n",
       "      <td>00:07:59.75</td>\n",
       "      <td>00:08:00.88</td>\n",
       "      <td>28785</td>\n",
       "      <td>28852</td>\n",
       "      <td>take cup</td>\n",
       "      <td>take</td>\n",
       "      <td>0</td>\n",
       "      <td>cup</td>\n",
       "      <td>13</td>\n",
       "      <td>['cup']</td>\n",
       "      <td>[13]</td>\n",
       "    </tr>\n",
       "    <tr>\n",
       "      <th>5</th>\n",
       "      <td>P01_01_102</td>\n",
       "      <td>P01</td>\n",
       "      <td>P01_01</td>\n",
       "      <td>00:08:01.229</td>\n",
       "      <td>00:08:02.13</td>\n",
       "      <td>00:08:03.00</td>\n",
       "      <td>28927</td>\n",
       "      <td>28980</td>\n",
       "      <td>put cup into cupboard</td>\n",
       "      <td>put-into</td>\n",
       "      <td>5</td>\n",
       "      <td>cup</td>\n",
       "      <td>13</td>\n",
       "      <td>['cup', 'cupboard']</td>\n",
       "      <td>[13, 3]</td>\n",
       "    </tr>\n",
       "    <tr>\n",
       "      <th>12</th>\n",
       "      <td>P01_01_109</td>\n",
       "      <td>P01</td>\n",
       "      <td>P01_01</td>\n",
       "      <td>00:08:21.050</td>\n",
       "      <td>00:08:22.35</td>\n",
       "      <td>00:08:23.31</td>\n",
       "      <td>30141</td>\n",
       "      <td>30198</td>\n",
       "      <td>take plate</td>\n",
       "      <td>take</td>\n",
       "      <td>0</td>\n",
       "      <td>plate</td>\n",
       "      <td>2</td>\n",
       "      <td>['plate']</td>\n",
       "      <td>[2]</td>\n",
       "    </tr>\n",
       "    <tr>\n",
       "      <th>14</th>\n",
       "      <td>P01_01_110</td>\n",
       "      <td>P01</td>\n",
       "      <td>P01_01</td>\n",
       "      <td>00:08:25.669</td>\n",
       "      <td>00:08:24.66</td>\n",
       "      <td>00:08:27.92</td>\n",
       "      <td>30279</td>\n",
       "      <td>30475</td>\n",
       "      <td>put plate down</td>\n",
       "      <td>put-down</td>\n",
       "      <td>1</td>\n",
       "      <td>plate</td>\n",
       "      <td>2</td>\n",
       "      <td>['plate']</td>\n",
       "      <td>[2]</td>\n",
       "    </tr>\n",
       "    <tr>\n",
       "      <th>125</th>\n",
       "      <td>P01_01_211</td>\n",
       "      <td>P01</td>\n",
       "      <td>P01_01</td>\n",
       "      <td>00:16:09.660</td>\n",
       "      <td>00:16:10.43</td>\n",
       "      <td>00:16:11.15</td>\n",
       "      <td>58225</td>\n",
       "      <td>58269</td>\n",
       "      <td>take bottle</td>\n",
       "      <td>take</td>\n",
       "      <td>0</td>\n",
       "      <td>bottle</td>\n",
       "      <td>15</td>\n",
       "      <td>['bottle']</td>\n",
       "      <td>[15]</td>\n",
       "    </tr>\n",
       "    <tr>\n",
       "      <th>...</th>\n",
       "      <td>...</td>\n",
       "      <td>...</td>\n",
       "      <td>...</td>\n",
       "      <td>...</td>\n",
       "      <td>...</td>\n",
       "      <td>...</td>\n",
       "      <td>...</td>\n",
       "      <td>...</td>\n",
       "      <td>...</td>\n",
       "      <td>...</td>\n",
       "      <td>...</td>\n",
       "      <td>...</td>\n",
       "      <td>...</td>\n",
       "      <td>...</td>\n",
       "      <td>...</td>\n",
       "    </tr>\n",
       "    <tr>\n",
       "      <th>67018</th>\n",
       "      <td>P37_102_120</td>\n",
       "      <td>P37</td>\n",
       "      <td>P37_102</td>\n",
       "      <td>00:09:21.161</td>\n",
       "      <td>00:09:20.64</td>\n",
       "      <td>00:09:22.71</td>\n",
       "      <td>28032</td>\n",
       "      <td>28135</td>\n",
       "      <td>rinse plate</td>\n",
       "      <td>rinse</td>\n",
       "      <td>2</td>\n",
       "      <td>plate</td>\n",
       "      <td>2</td>\n",
       "      <td>['plate']</td>\n",
       "      <td>[2]</td>\n",
       "    </tr>\n",
       "    <tr>\n",
       "      <th>67035</th>\n",
       "      <td>P37_102_136</td>\n",
       "      <td>P37</td>\n",
       "      <td>P37_102</td>\n",
       "      <td>00:10:28.164</td>\n",
       "      <td>00:10:28.04</td>\n",
       "      <td>00:10:29.15</td>\n",
       "      <td>31402</td>\n",
       "      <td>31457</td>\n",
       "      <td>take plate</td>\n",
       "      <td>take</td>\n",
       "      <td>0</td>\n",
       "      <td>plate</td>\n",
       "      <td>2</td>\n",
       "      <td>['plate']</td>\n",
       "      <td>[2]</td>\n",
       "    </tr>\n",
       "    <tr>\n",
       "      <th>67037</th>\n",
       "      <td>P37_102_138</td>\n",
       "      <td>P37</td>\n",
       "      <td>P37_102</td>\n",
       "      <td>00:10:35.161</td>\n",
       "      <td>00:10:34.10</td>\n",
       "      <td>00:10:36.20</td>\n",
       "      <td>31705</td>\n",
       "      <td>31810</td>\n",
       "      <td>put plates down</td>\n",
       "      <td>put</td>\n",
       "      <td>1</td>\n",
       "      <td>plate</td>\n",
       "      <td>2</td>\n",
       "      <td>['plate']</td>\n",
       "      <td>[2]</td>\n",
       "    </tr>\n",
       "    <tr>\n",
       "      <th>67045</th>\n",
       "      <td>P37_102_145</td>\n",
       "      <td>P37</td>\n",
       "      <td>P37_102</td>\n",
       "      <td>00:11:12.412</td>\n",
       "      <td>00:11:06.68</td>\n",
       "      <td>00:11:13.02</td>\n",
       "      <td>33334</td>\n",
       "      <td>33651</td>\n",
       "      <td>take plate</td>\n",
       "      <td>take</td>\n",
       "      <td>0</td>\n",
       "      <td>plate</td>\n",
       "      <td>2</td>\n",
       "      <td>['plate']</td>\n",
       "      <td>[2]</td>\n",
       "    </tr>\n",
       "    <tr>\n",
       "      <th>67046</th>\n",
       "      <td>P37_102_146</td>\n",
       "      <td>P37</td>\n",
       "      <td>P37_102</td>\n",
       "      <td>00:11:14.157</td>\n",
       "      <td>00:11:13.03</td>\n",
       "      <td>00:11:15.42</td>\n",
       "      <td>33651</td>\n",
       "      <td>33771</td>\n",
       "      <td>put plates down</td>\n",
       "      <td>put</td>\n",
       "      <td>1</td>\n",
       "      <td>plate</td>\n",
       "      <td>2</td>\n",
       "      <td>['plate']</td>\n",
       "      <td>[2]</td>\n",
       "    </tr>\n",
       "  </tbody>\n",
       "</table>\n",
       "<p>359 rows × 15 columns</p>\n",
       "</div>"
      ],
      "text/plain": [
       "      narration_id participant_id video_id narration_timestamp  \\\n",
       "3       P01_01_100            P01   P01_01        00:07:57.919   \n",
       "5       P01_01_102            P01   P01_01        00:08:01.229   \n",
       "12      P01_01_109            P01   P01_01        00:08:21.050   \n",
       "14      P01_01_110            P01   P01_01        00:08:25.669   \n",
       "125     P01_01_211            P01   P01_01        00:16:09.660   \n",
       "...            ...            ...      ...                 ...   \n",
       "67018  P37_102_120            P37  P37_102        00:09:21.161   \n",
       "67035  P37_102_136            P37  P37_102        00:10:28.164   \n",
       "67037  P37_102_138            P37  P37_102        00:10:35.161   \n",
       "67045  P37_102_145            P37  P37_102        00:11:12.412   \n",
       "67046  P37_102_146            P37  P37_102        00:11:14.157   \n",
       "\n",
       "      start_timestamp stop_timestamp  start_frame  stop_frame  \\\n",
       "3         00:07:59.75    00:08:00.88        28785       28852   \n",
       "5         00:08:02.13    00:08:03.00        28927       28980   \n",
       "12        00:08:22.35    00:08:23.31        30141       30198   \n",
       "14        00:08:24.66    00:08:27.92        30279       30475   \n",
       "125       00:16:10.43    00:16:11.15        58225       58269   \n",
       "...               ...            ...          ...         ...   \n",
       "67018     00:09:20.64    00:09:22.71        28032       28135   \n",
       "67035     00:10:28.04    00:10:29.15        31402       31457   \n",
       "67037     00:10:34.10    00:10:36.20        31705       31810   \n",
       "67045     00:11:06.68    00:11:13.02        33334       33651   \n",
       "67046     00:11:13.03    00:11:15.42        33651       33771   \n",
       "\n",
       "                   narration      verb  verb_class    noun  noun_class  \\\n",
       "3                   take cup      take           0     cup          13   \n",
       "5      put cup into cupboard  put-into           5     cup          13   \n",
       "12                take plate      take           0   plate           2   \n",
       "14            put plate down  put-down           1   plate           2   \n",
       "125              take bottle      take           0  bottle          15   \n",
       "...                      ...       ...         ...     ...         ...   \n",
       "67018            rinse plate     rinse           2   plate           2   \n",
       "67035             take plate      take           0   plate           2   \n",
       "67037        put plates down       put           1   plate           2   \n",
       "67045             take plate      take           0   plate           2   \n",
       "67046        put plates down       put           1   plate           2   \n",
       "\n",
       "                 all_nouns all_noun_classes  \n",
       "3                  ['cup']             [13]  \n",
       "5      ['cup', 'cupboard']          [13, 3]  \n",
       "12               ['plate']              [2]  \n",
       "14               ['plate']              [2]  \n",
       "125             ['bottle']             [15]  \n",
       "...                    ...              ...  \n",
       "67018            ['plate']              [2]  \n",
       "67035            ['plate']              [2]  \n",
       "67037            ['plate']              [2]  \n",
       "67045            ['plate']              [2]  \n",
       "67046            ['plate']              [2]  \n",
       "\n",
       "[359 rows x 15 columns]"
      ]
     },
     "execution_count": 167,
     "metadata": {},
     "output_type": "execute_result"
    }
   ],
   "source": [
    "annot_df"
   ]
  },
  {
   "cell_type": "markdown",
   "id": "0a58b888-eb89-48a4-9fcc-cd4abd1c7890",
   "metadata": {},
   "source": [
    "# Video selection"
   ]
  },
  {
   "cell_type": "markdown",
   "id": "8adbaf56-c0ea-4b2f-86da-c2f1a80934a9",
   "metadata": {},
   "source": [
    "## - evenly select nouns"
   ]
  },
  {
   "cell_type": "code",
   "execution_count": 38,
   "id": "d207b556-6a5a-41c0-9725-511e979f5442",
   "metadata": {},
   "outputs": [
    {
     "data": {
      "text/html": [
       "<div>\n",
       "<style scoped>\n",
       "    .dataframe tbody tr th:only-of-type {\n",
       "        vertical-align: middle;\n",
       "    }\n",
       "\n",
       "    .dataframe tbody tr th {\n",
       "        vertical-align: top;\n",
       "    }\n",
       "\n",
       "    .dataframe thead th {\n",
       "        text-align: right;\n",
       "    }\n",
       "</style>\n",
       "<table border=\"1\" class=\"dataframe\">\n",
       "  <thead>\n",
       "    <tr style=\"text-align: right;\">\n",
       "      <th></th>\n",
       "      <th>narration_id</th>\n",
       "      <th>participant_id</th>\n",
       "      <th>video_id</th>\n",
       "      <th>narration_timestamp</th>\n",
       "      <th>start_timestamp</th>\n",
       "      <th>stop_timestamp</th>\n",
       "      <th>start_frame</th>\n",
       "      <th>stop_frame</th>\n",
       "      <th>narration</th>\n",
       "      <th>verb</th>\n",
       "      <th>verb_class</th>\n",
       "      <th>noun</th>\n",
       "      <th>noun_class</th>\n",
       "      <th>all_nouns</th>\n",
       "      <th>all_noun_classes</th>\n",
       "    </tr>\n",
       "  </thead>\n",
       "  <tbody>\n",
       "    <tr>\n",
       "      <th>3</th>\n",
       "      <td>P01_01_100</td>\n",
       "      <td>P01</td>\n",
       "      <td>P01_01</td>\n",
       "      <td>00:07:57.919</td>\n",
       "      <td>00:07:59.75</td>\n",
       "      <td>00:08:00.88</td>\n",
       "      <td>28785</td>\n",
       "      <td>28852</td>\n",
       "      <td>take cup</td>\n",
       "      <td>take</td>\n",
       "      <td>0</td>\n",
       "      <td>cup</td>\n",
       "      <td>13</td>\n",
       "      <td>['cup']</td>\n",
       "      <td>[13]</td>\n",
       "    </tr>\n",
       "    <tr>\n",
       "      <th>5</th>\n",
       "      <td>P01_01_102</td>\n",
       "      <td>P01</td>\n",
       "      <td>P01_01</td>\n",
       "      <td>00:08:01.229</td>\n",
       "      <td>00:08:02.13</td>\n",
       "      <td>00:08:03.00</td>\n",
       "      <td>28927</td>\n",
       "      <td>28980</td>\n",
       "      <td>put cup into cupboard</td>\n",
       "      <td>put-into</td>\n",
       "      <td>5</td>\n",
       "      <td>cup</td>\n",
       "      <td>13</td>\n",
       "      <td>['cup', 'cupboard']</td>\n",
       "      <td>[13, 3]</td>\n",
       "    </tr>\n",
       "    <tr>\n",
       "      <th>12</th>\n",
       "      <td>P01_01_109</td>\n",
       "      <td>P01</td>\n",
       "      <td>P01_01</td>\n",
       "      <td>00:08:21.050</td>\n",
       "      <td>00:08:22.35</td>\n",
       "      <td>00:08:23.31</td>\n",
       "      <td>30141</td>\n",
       "      <td>30198</td>\n",
       "      <td>take plate</td>\n",
       "      <td>take</td>\n",
       "      <td>0</td>\n",
       "      <td>plate</td>\n",
       "      <td>2</td>\n",
       "      <td>['plate']</td>\n",
       "      <td>[2]</td>\n",
       "    </tr>\n",
       "    <tr>\n",
       "      <th>14</th>\n",
       "      <td>P01_01_110</td>\n",
       "      <td>P01</td>\n",
       "      <td>P01_01</td>\n",
       "      <td>00:08:25.669</td>\n",
       "      <td>00:08:24.66</td>\n",
       "      <td>00:08:27.92</td>\n",
       "      <td>30279</td>\n",
       "      <td>30475</td>\n",
       "      <td>put plate down</td>\n",
       "      <td>put-down</td>\n",
       "      <td>1</td>\n",
       "      <td>plate</td>\n",
       "      <td>2</td>\n",
       "      <td>['plate']</td>\n",
       "      <td>[2]</td>\n",
       "    </tr>\n",
       "    <tr>\n",
       "      <th>125</th>\n",
       "      <td>P01_01_211</td>\n",
       "      <td>P01</td>\n",
       "      <td>P01_01</td>\n",
       "      <td>00:16:09.660</td>\n",
       "      <td>00:16:10.43</td>\n",
       "      <td>00:16:11.15</td>\n",
       "      <td>58225</td>\n",
       "      <td>58269</td>\n",
       "      <td>take bottle</td>\n",
       "      <td>take</td>\n",
       "      <td>0</td>\n",
       "      <td>bottle</td>\n",
       "      <td>15</td>\n",
       "      <td>['bottle']</td>\n",
       "      <td>[15]</td>\n",
       "    </tr>\n",
       "    <tr>\n",
       "      <th>...</th>\n",
       "      <td>...</td>\n",
       "      <td>...</td>\n",
       "      <td>...</td>\n",
       "      <td>...</td>\n",
       "      <td>...</td>\n",
       "      <td>...</td>\n",
       "      <td>...</td>\n",
       "      <td>...</td>\n",
       "      <td>...</td>\n",
       "      <td>...</td>\n",
       "      <td>...</td>\n",
       "      <td>...</td>\n",
       "      <td>...</td>\n",
       "      <td>...</td>\n",
       "      <td>...</td>\n",
       "    </tr>\n",
       "    <tr>\n",
       "      <th>67018</th>\n",
       "      <td>P37_102_120</td>\n",
       "      <td>P37</td>\n",
       "      <td>P37_102</td>\n",
       "      <td>00:09:21.161</td>\n",
       "      <td>00:09:20.64</td>\n",
       "      <td>00:09:22.71</td>\n",
       "      <td>28032</td>\n",
       "      <td>28135</td>\n",
       "      <td>rinse plate</td>\n",
       "      <td>rinse</td>\n",
       "      <td>2</td>\n",
       "      <td>plate</td>\n",
       "      <td>2</td>\n",
       "      <td>['plate']</td>\n",
       "      <td>[2]</td>\n",
       "    </tr>\n",
       "    <tr>\n",
       "      <th>67035</th>\n",
       "      <td>P37_102_136</td>\n",
       "      <td>P37</td>\n",
       "      <td>P37_102</td>\n",
       "      <td>00:10:28.164</td>\n",
       "      <td>00:10:28.04</td>\n",
       "      <td>00:10:29.15</td>\n",
       "      <td>31402</td>\n",
       "      <td>31457</td>\n",
       "      <td>take plate</td>\n",
       "      <td>take</td>\n",
       "      <td>0</td>\n",
       "      <td>plate</td>\n",
       "      <td>2</td>\n",
       "      <td>['plate']</td>\n",
       "      <td>[2]</td>\n",
       "    </tr>\n",
       "    <tr>\n",
       "      <th>67037</th>\n",
       "      <td>P37_102_138</td>\n",
       "      <td>P37</td>\n",
       "      <td>P37_102</td>\n",
       "      <td>00:10:35.161</td>\n",
       "      <td>00:10:34.10</td>\n",
       "      <td>00:10:36.20</td>\n",
       "      <td>31705</td>\n",
       "      <td>31810</td>\n",
       "      <td>put plates down</td>\n",
       "      <td>put</td>\n",
       "      <td>1</td>\n",
       "      <td>plate</td>\n",
       "      <td>2</td>\n",
       "      <td>['plate']</td>\n",
       "      <td>[2]</td>\n",
       "    </tr>\n",
       "    <tr>\n",
       "      <th>67045</th>\n",
       "      <td>P37_102_145</td>\n",
       "      <td>P37</td>\n",
       "      <td>P37_102</td>\n",
       "      <td>00:11:12.412</td>\n",
       "      <td>00:11:06.68</td>\n",
       "      <td>00:11:13.02</td>\n",
       "      <td>33334</td>\n",
       "      <td>33651</td>\n",
       "      <td>take plate</td>\n",
       "      <td>take</td>\n",
       "      <td>0</td>\n",
       "      <td>plate</td>\n",
       "      <td>2</td>\n",
       "      <td>['plate']</td>\n",
       "      <td>[2]</td>\n",
       "    </tr>\n",
       "    <tr>\n",
       "      <th>67046</th>\n",
       "      <td>P37_102_146</td>\n",
       "      <td>P37</td>\n",
       "      <td>P37_102</td>\n",
       "      <td>00:11:14.157</td>\n",
       "      <td>00:11:13.03</td>\n",
       "      <td>00:11:15.42</td>\n",
       "      <td>33651</td>\n",
       "      <td>33771</td>\n",
       "      <td>put plates down</td>\n",
       "      <td>put</td>\n",
       "      <td>1</td>\n",
       "      <td>plate</td>\n",
       "      <td>2</td>\n",
       "      <td>['plate']</td>\n",
       "      <td>[2]</td>\n",
       "    </tr>\n",
       "  </tbody>\n",
       "</table>\n",
       "<p>3499 rows × 15 columns</p>\n",
       "</div>"
      ],
      "text/plain": [
       "      narration_id participant_id video_id narration_timestamp  \\\n",
       "3       P01_01_100            P01   P01_01        00:07:57.919   \n",
       "5       P01_01_102            P01   P01_01        00:08:01.229   \n",
       "12      P01_01_109            P01   P01_01        00:08:21.050   \n",
       "14      P01_01_110            P01   P01_01        00:08:25.669   \n",
       "125     P01_01_211            P01   P01_01        00:16:09.660   \n",
       "...            ...            ...      ...                 ...   \n",
       "67018  P37_102_120            P37  P37_102        00:09:21.161   \n",
       "67035  P37_102_136            P37  P37_102        00:10:28.164   \n",
       "67037  P37_102_138            P37  P37_102        00:10:35.161   \n",
       "67045  P37_102_145            P37  P37_102        00:11:12.412   \n",
       "67046  P37_102_146            P37  P37_102        00:11:14.157   \n",
       "\n",
       "      start_timestamp stop_timestamp  start_frame  stop_frame  \\\n",
       "3         00:07:59.75    00:08:00.88        28785       28852   \n",
       "5         00:08:02.13    00:08:03.00        28927       28980   \n",
       "12        00:08:22.35    00:08:23.31        30141       30198   \n",
       "14        00:08:24.66    00:08:27.92        30279       30475   \n",
       "125       00:16:10.43    00:16:11.15        58225       58269   \n",
       "...               ...            ...          ...         ...   \n",
       "67018     00:09:20.64    00:09:22.71        28032       28135   \n",
       "67035     00:10:28.04    00:10:29.15        31402       31457   \n",
       "67037     00:10:34.10    00:10:36.20        31705       31810   \n",
       "67045     00:11:06.68    00:11:13.02        33334       33651   \n",
       "67046     00:11:13.03    00:11:15.42        33651       33771   \n",
       "\n",
       "                   narration      verb  verb_class    noun  noun_class  \\\n",
       "3                   take cup      take           0     cup          13   \n",
       "5      put cup into cupboard  put-into           5     cup          13   \n",
       "12                take plate      take           0   plate           2   \n",
       "14            put plate down  put-down           1   plate           2   \n",
       "125              take bottle      take           0  bottle          15   \n",
       "...                      ...       ...         ...     ...         ...   \n",
       "67018            rinse plate     rinse           2   plate           2   \n",
       "67035             take plate      take           0   plate           2   \n",
       "67037        put plates down       put           1   plate           2   \n",
       "67045             take plate      take           0   plate           2   \n",
       "67046        put plates down       put           1   plate           2   \n",
       "\n",
       "                 all_nouns all_noun_classes  \n",
       "3                  ['cup']             [13]  \n",
       "5      ['cup', 'cupboard']          [13, 3]  \n",
       "12               ['plate']              [2]  \n",
       "14               ['plate']              [2]  \n",
       "125             ['bottle']             [15]  \n",
       "...                    ...              ...  \n",
       "67018            ['plate']              [2]  \n",
       "67035            ['plate']              [2]  \n",
       "67037            ['plate']              [2]  \n",
       "67045            ['plate']              [2]  \n",
       "67046            ['plate']              [2]  \n",
       "\n",
       "[3499 rows x 15 columns]"
      ]
     },
     "execution_count": 38,
     "metadata": {},
     "output_type": "execute_result"
    }
   ],
   "source": [
    "annot_df"
   ]
  },
  {
   "cell_type": "code",
   "execution_count": 44,
   "id": "79058002-18cf-4cb1-8ba2-a759807a1bb4",
   "metadata": {},
   "outputs": [],
   "source": []
  }
 ],
 "metadata": {
  "kernelspec": {
   "display_name": "Python 3 (ipykernel)",
   "language": "python",
   "name": "python3"
  },
  "language_info": {
   "codemirror_mode": {
    "name": "ipython",
    "version": 3
   },
   "file_extension": ".py",
   "mimetype": "text/x-python",
   "name": "python",
   "nbconvert_exporter": "python",
   "pygments_lexer": "ipython3",
   "version": "3.7.11"
  }
 },
 "nbformat": 4,
 "nbformat_minor": 5
}
