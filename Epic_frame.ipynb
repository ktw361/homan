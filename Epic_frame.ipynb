{
 "cells": [
  {
   "cell_type": "code",
   "execution_count": 1,
   "id": "d5b12330-d348-4180-a9c4-fc971e21e6fd",
   "metadata": {},
   "outputs": [],
   "source": [
    "%load_ext autoreload\n",
    "%autoreload 2"
   ]
  },
  {
   "cell_type": "code",
   "execution_count": 105,
   "id": "a5ccf6df-5c5f-476a-b21f-c181d495d106",
   "metadata": {},
   "outputs": [],
   "source": [
    "import pandas  as pd\n",
    "import pickle"
   ]
  },
  {
   "cell_type": "code",
   "execution_count": 107,
   "id": "7931a37f-5dde-44a9-9a91-adb77d277c92",
   "metadata": {},
   "outputs": [],
   "source": [
    "from homan.datasets.epic import EpicFrame\n",
    "from homan.datasets import epichoa\n",
    "import epylab as pylab"
   ]
  },
  {
   "cell_type": "code",
   "execution_count": 66,
   "id": "a43ec5f9-e65d-4f0a-a613-18314e362d2d",
   "metadata": {},
   "outputs": [],
   "source": [
    "import odlib\n",
    "from homan.datasets.epicutils import read_epic_image\n",
    "import numpy as np"
   ]
  },
  {
   "cell_type": "code",
   "execution_count": null,
   "id": "eb5e5a9c-be99-4ba7-9107-53315f98801d",
   "metadata": {},
   "outputs": [],
   "source": []
  },
  {
   "cell_type": "code",
   "execution_count": 34,
   "id": "9c3cf55b-65cf-4cd8-8c8a-d6a7037b3088",
   "metadata": {},
   "outputs": [
    {
     "name": "stderr",
     "output_type": "stream",
     "text": [
      "unable to load materials from: model_normalized.mtl\n",
      "specified material (material_0_24)  not loaded!\n",
      "unable to load materials from: model_normalized.mtl\n",
      "specified material (material_0_24)  not loaded!\n",
      "unable to load materials from: model_normalized.mtl\n",
      "specified material (material_3_24)  not loaded!\n",
      "specified material (material_2_24)  not loaded!\n",
      "specified material (material_1_24)  not loaded!\n",
      "specified material (material_0_24)  not loaded!\n",
      "unable to load materials from: model_normalized.mtl\n",
      "specified material (material_4_24)  not loaded!\n",
      "specified material (material_2_24)  not loaded!\n",
      "specified material (material_1_24)  not loaded!\n",
      "unable to load materials from: model_normalized.mtl\n",
      "specified material (material_2_24)  not loaded!\n",
      "/home/skynet/miniconda3/envs/phosa16_env/lib/python3.7/site-packages/manopth/manolayer.py:72: UserWarning: The given NumPy array is not writeable, and PyTorch does not support non-writeable tensors. This means you can write to the underlying (supposedly non-writeable) NumPy array using the tensor. You may want to copy the array to protect its data or make it writeable before converting it to a tensor. This type of warning will be suppressed for the rest of this program. (Triggered internally at  /opt/conda/conda-bld/pytorch_1595629403081/work/torch/csrc/utils/tensor_numpy.cpp:141.)\n",
      "  torch.Tensor(smpl_data['betas'].r).unsqueeze(0))\n",
      "/home/skynet/Zhifan/homan-full/homan/datasets/epic.py:609: UserWarning: Boolean Series key will be reindexed to match DataFrame index.\n"
     ]
    }
   ],
   "source": [
    "epicframe = EpicFrame('/home/skynet/Zhifan/data/epic_analysis/clean_frame_debug.txt')"
   ]
  },
  {
   "cell_type": "code",
   "execution_count": 37,
   "id": "9aa37abd-2b5f-4f61-b1ba-d343601575e8",
   "metadata": {},
   "outputs": [],
   "source": [
    "with open('/home/skynet/Zhifan/data/epic/EPIC_100_train.pkl', 'rb') as fp:\n",
    "    annot_df = pickle.load(fp)"
   ]
  },
  {
   "cell_type": "code",
   "execution_count": 46,
   "id": "639ad9ec-7188-46df-ad5a-d98ce6ce64e1",
   "metadata": {},
   "outputs": [],
   "source": [
    "clip_df = annot_df[annot_df.index == 'P01_01_100']"
   ]
  },
  {
   "cell_type": "code",
   "execution_count": 47,
   "id": "56144bb1-ac57-4fed-b17d-406a7524ce8a",
   "metadata": {},
   "outputs": [
    {
     "name": "stderr",
     "output_type": "stream",
     "text": [
      "  0%|                                                                                                                                                                                                                   | 0/1 [00:00<?, ?it/s]/home/skynet/Zhifan/homan-full/homan/datasets/epic.py:304: UserWarning: Boolean Series key will be reindexed to match DataFrame index.\n",
      "  frame_idxs, bboxes = trackhoadf.track_hoa_df(\n",
      "\n",
      "  0%|                                                                                                                                                                                                                  | 0/87 [00:00<?, ?it/s]\u001b[A\n",
      "100%|████████████████████████████████████████████████████████████████████████████████████████████████████████████████████████████████████████████████████████████████████████████████████████████████████████| 87/87 [00:00<00:00, 428.68it/s]\u001b[A\n",
      "100%|███████████████████████████████████████████████████████████████████████████████████████████████████████████████████████████████████████████████████████████████████████████████████████████████████████████| 1/1 [00:00<00:00,  3.86it/s]"
     ]
    },
    {
     "name": "stdout",
     "output_type": "stream",
     "text": [
      "Got 1 object tracks with lengths         [45]\n",
      "Got 1 left hand tracks with lengths         [22]\n",
      "Got 3 right hand tracks with lengths         [10, 74, 24]\n"
     ]
    },
    {
     "name": "stderr",
     "output_type": "stream",
     "text": [
      "\n"
     ]
    }
   ],
   "source": [
    "vid_index, annotations = epicframe.compute_tracks(clip_df)"
   ]
  },
  {
   "cell_type": "code",
   "execution_count": null,
   "id": "c1d83b03-295b-4941-8670-aac39937c87a",
   "metadata": {},
   "outputs": [],
   "source": []
  },
  {
   "cell_type": "code",
   "execution_count": 125,
   "id": "67ac5228-3ab3-41f8-8b22-b3aae7213696",
   "metadata": {},
   "outputs": [],
   "source": [
    "from PIL import Image\n",
    "import cv2\n",
    "from libyana.transformutils import handutils"
   ]
  },
  {
   "cell_type": "code",
   "execution_count": 96,
   "id": "7de774f8-b681-49da-8e91-dd463c7464a3",
   "metadata": {},
   "outputs": [],
   "source": [
    "# roi = np.array([3.66315765e+02, 1.48010254e-01, 5.17894745e+02, 1.51726990e+02])\n",
    "affine_trans = np.array([[ 4.2222214e+00,  0.0000000e+00, -1.5466663e+03],\n",
    "       [ 0.0000000e+00,  4.2222214e+00, -6.2493205e-01],\n",
    "       [ 0.0000000e+00,  0.0000000e+00,  1.0000000e+00]], dtype=np.float32)"
   ]
  },
  {
   "cell_type": "code",
   "execution_count": 200,
   "id": "888f2ee6-4727-4878-9639-308cb0019f47",
   "metadata": {},
   "outputs": [],
   "source": [
    "def read_interpolation_mask(vid, fid):\n",
    "    save_dir = '/home/skynet/Zhifan/data/epic_analysis/interpolation/'\n",
    "    path = f'{save_dir}/{vid}/frame_{fid:010d}.png'\n",
    "    mask = Image.open(path)\n",
    "    return mask"
   ]
  },
  {
   "cell_type": "code",
   "execution_count": 201,
   "id": "eca38487-a4e9-4ac6-8353-134bd491649c",
   "metadata": {},
   "outputs": [],
   "source": [
    "mask = read_interpolation_mask('P01_01', 28802)"
   ]
  },
  {
   "cell_type": "code",
   "execution_count": 203,
   "id": "5d54c726-84b0-41b4-bb07-b8ee807bd780",
   "metadata": {},
   "outputs": [
    {
     "data": {
      "text/plain": [
       "(480, 854)"
      ]
     },
     "execution_count": 203,
     "metadata": {},
     "output_type": "execute_result"
    }
   ],
   "source": [
    "np.asarray(mask).shape"
   ]
  },
  {
   "cell_type": "code",
   "execution_count": 178,
   "id": "60ceb408-8856-49b2-a094-00d0b7ec6597",
   "metadata": {},
   "outputs": [],
   "source": [
    "mask1 = mask.resize((640, 360), Image.NEAREST)"
   ]
  },
  {
   "cell_type": "code",
   "execution_count": 188,
   "id": "49b76af9-b200-45f0-a77d-c28bee9a24cd",
   "metadata": {},
   "outputs": [],
   "source": [
    "mask2 = handutils.transform_img(mask1, affine_trans, [640, 640])"
   ]
  },
  {
   "cell_type": "code",
   "execution_count": 204,
   "id": "2cc458d7-c21a-458a-888a-14dbacbfcc1d",
   "metadata": {},
   "outputs": [],
   "source": [
    "mask3 = np.asarray(mask2)"
   ]
  },
  {
   "cell_type": "code",
   "execution_count": 205,
   "id": "224b4ec3-071a-43c8-afd1-15c9bd24f2bc",
   "metadata": {},
   "outputs": [],
   "source": [
    "mask3[mask3 != 4] = 0\n",
    "mask3[mask3 == 4] = 1"
   ]
  },
  {
   "cell_type": "code",
   "execution_count": 206,
   "id": "a9a18584-8ed4-4f01-a9a8-a425afd9c283",
   "metadata": {},
   "outputs": [
    {
     "data": {
      "text/plain": [
       "(640, 640)"
      ]
     },
     "execution_count": 206,
     "metadata": {},
     "output_type": "execute_result"
    }
   ],
   "source": [
    "mask3.shape"
   ]
  },
  {
   "cell_type": "code",
   "execution_count": 196,
   "id": "5b49c655-2bca-492b-b378-c3bd862617fd",
   "metadata": {},
   "outputs": [],
   "source": [
    "import torch"
   ]
  },
  {
   "cell_type": "code",
   "execution_count": null,
   "id": "32b7c9a1-e78a-4125-8d29-1b3e41d04c08",
   "metadata": {},
   "outputs": [],
   "source": []
  },
  {
   "cell_type": "code",
   "execution_count": 190,
   "id": "8627634f-0cdd-4b19-a049-7742443e9abe",
   "metadata": {},
   "outputs": [
    {
     "data": {
      "image/png": "[encoded data removed]",
      "text/plain": [
       "<PIL.Image.Image image mode=P size=640x640 at 0x7FDDAD21A5D0>"
      ]
     },
     "execution_count": 190,
     "metadata": {},
     "output_type": "execute_result"
    }
   ],
   "source": [
    "mask2"
   ]
  }
 ],
 "metadata": {
  "kernelspec": {
   "display_name": "Python 3 (ipykernel)",
   "language": "python",
   "name": "python3"
  },
  "language_info": {
   "codemirror_mode": {
    "name": "ipython",
    "version": 3
   },
   "file_extension": ".py",
   "mimetype": "text/x-python",
   "name": "python",
   "nbconvert_exporter": "python",
   "pygments_lexer": "ipython3",
   "version": "3.7.11"
  }
 },
 "nbformat": 4,
 "nbformat_minor": 5
}
